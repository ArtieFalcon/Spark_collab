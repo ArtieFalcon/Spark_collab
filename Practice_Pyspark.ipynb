{
  "nbformat": 4,
  "nbformat_minor": 0,
  "metadata": {
    "colab": {
      "provenance": [],
      "collapsed_sections": [
        "iuUdeV9EgnPn",
        "iEIYWxl2dFeI"
      ],
      "authorship_tag": "ABX9TyPMMoEfiM3GvHxir3pNX5Tc",
      "include_colab_link": true
    },
    "kernelspec": {
      "name": "python3",
      "display_name": "Python 3"
    },
    "language_info": {
      "name": "python"
    }
  },
  "cells": [
    {
      "cell_type": "markdown",
      "metadata": {
        "id": "view-in-github",
        "colab_type": "text"
      },
      "source": [
        "<a href=\"https://colab.research.google.com/github/ArtieFalcon/Spark_collab/blob/main/Practice_Pyspark.ipynb\" target=\"_parent\"><img src=\"https://colab.research.google.com/assets/colab-badge.svg\" alt=\"Open In Colab\"/></a>"
      ]
    },
    {
      "cell_type": "markdown",
      "source": [
        "## BASICS (Stepik)"
      ],
      "metadata": {
        "id": "iuUdeV9EgnPn"
      }
    },
    {
      "cell_type": "code",
      "execution_count": null,
      "metadata": {
        "colab": {
          "base_uri": "https://localhost:8080/"
        },
        "id": "JyUfQGJ-EZaT",
        "outputId": "f40e3ae0-1656-4e16-f3f7-d1dbcb66b666"
      },
      "outputs": [
        {
          "output_type": "stream",
          "name": "stdout",
          "text": [
            "Looking in indexes: https://pypi.org/simple, https://us-python.pkg.dev/colab-wheels/public/simple/\n",
            "Collecting pyspark==3.0.1\n",
            "  Downloading pyspark-3.0.1.tar.gz (204.2 MB)\n",
            "\u001b[2K     \u001b[90m━━━━━━━━━━━━━━━━━━━━━━━━━━━━━━━━━━━━━━━\u001b[0m \u001b[32m204.2/204.2 MB\u001b[0m \u001b[31m6.3 MB/s\u001b[0m eta \u001b[36m0:00:00\u001b[0m\n",
            "\u001b[?25h  Preparing metadata (setup.py) ... \u001b[?25l\u001b[?25hdone\n",
            "Collecting py4j==0.10.9\n",
            "  Downloading py4j-0.10.9-py2.py3-none-any.whl (198 kB)\n",
            "\u001b[2K     \u001b[90m━━━━━━━━━━━━━━━━━━━━━━━━━━━━━━━━━━━━━━\u001b[0m \u001b[32m198.6/198.6 kB\u001b[0m \u001b[31m15.9 MB/s\u001b[0m eta \u001b[36m0:00:00\u001b[0m\n",
            "\u001b[?25hBuilding wheels for collected packages: pyspark\n",
            "  Building wheel for pyspark (setup.py) ... \u001b[?25l\u001b[?25hdone\n",
            "  Created wheel for pyspark: filename=pyspark-3.0.1-py2.py3-none-any.whl size=204612229 sha256=f9a491f1cd7657d164f49998f24839242028f2bd2fe4edc3cc82db144999040e\n",
            "  Stored in directory: /root/.cache/pip/wheels/19/b0/c8/6cb894117070e130fc44352c2a13f15b6c27e440d04a84fb48\n",
            "Successfully built pyspark\n",
            "Installing collected packages: py4j, pyspark\n",
            "  Attempting uninstall: py4j\n",
            "    Found existing installation: py4j 0.10.9.7\n",
            "    Uninstalling py4j-0.10.9.7:\n",
            "      Successfully uninstalled py4j-0.10.9.7\n",
            "Successfully installed py4j-0.10.9 pyspark-3.0.1\n"
          ]
        }
      ],
      "source": [
        "!pip install pyspark==3.0.1 py4j==0.10.9"
      ]
    },
    {
      "cell_type": "code",
      "source": [
        "from pyspark.sql import SparkSession\n",
        "\n",
        "spark = SparkSession.builder\\\n",
        "        .master(\"local[*]\")\\\n",
        "        .appName('PySpark_Tutorial')\\\n",
        "        .getOrCreate()"
      ],
      "metadata": {
        "id": "yivYxtNTEdI3"
      },
      "execution_count": null,
      "outputs": []
    },
    {
      "cell_type": "code",
      "source": [
        "csv_file = '/content/sample_data/california_housing_train.csv'\n",
        "df = spark.read.csv(csv_file)\n",
        "#df.head(4)\n",
        "df.show()"
      ],
      "metadata": {
        "id": "KDDgfodSFJHn",
        "colab": {
          "base_uri": "https://localhost:8080/"
        },
        "outputId": "8deba078-7ea4-4cb7-8237-39d6ef5e62b2"
      },
      "execution_count": null,
      "outputs": [
        {
          "output_type": "stream",
          "name": "stdout",
          "text": [
            "+-----------+---------+------------------+-----------+--------------+-----------+-----------+-------------+------------------+\n",
            "|        _c0|      _c1|               _c2|        _c3|           _c4|        _c5|        _c6|          _c7|               _c8|\n",
            "+-----------+---------+------------------+-----------+--------------+-----------+-----------+-------------+------------------+\n",
            "|  longitude| latitude|housing_median_age|total_rooms|total_bedrooms| population| households|median_income|median_house_value|\n",
            "|-114.310000|34.190000|         15.000000|5612.000000|   1283.000000|1015.000000| 472.000000|     1.493600|      66900.000000|\n",
            "|-114.470000|34.400000|         19.000000|7650.000000|   1901.000000|1129.000000| 463.000000|     1.820000|      80100.000000|\n",
            "|-114.560000|33.690000|         17.000000| 720.000000|    174.000000| 333.000000| 117.000000|     1.650900|      85700.000000|\n",
            "|-114.570000|33.640000|         14.000000|1501.000000|    337.000000| 515.000000| 226.000000|     3.191700|      73400.000000|\n",
            "|-114.570000|33.570000|         20.000000|1454.000000|    326.000000| 624.000000| 262.000000|     1.925000|      65500.000000|\n",
            "|-114.580000|33.630000|         29.000000|1387.000000|    236.000000| 671.000000| 239.000000|     3.343800|      74000.000000|\n",
            "|-114.580000|33.610000|         25.000000|2907.000000|    680.000000|1841.000000| 633.000000|     2.676800|      82400.000000|\n",
            "|-114.590000|34.830000|         41.000000| 812.000000|    168.000000| 375.000000| 158.000000|     1.708300|      48500.000000|\n",
            "|-114.590000|33.610000|         34.000000|4789.000000|   1175.000000|3134.000000|1056.000000|     2.178200|      58400.000000|\n",
            "|-114.600000|34.830000|         46.000000|1497.000000|    309.000000| 787.000000| 271.000000|     2.190800|      48100.000000|\n",
            "|-114.600000|33.620000|         16.000000|3741.000000|    801.000000|2434.000000| 824.000000|     2.679700|      86500.000000|\n",
            "|-114.600000|33.600000|         21.000000|1988.000000|    483.000000|1182.000000| 437.000000|     1.625000|      62000.000000|\n",
            "|-114.610000|34.840000|         48.000000|1291.000000|    248.000000| 580.000000| 211.000000|     2.157100|      48600.000000|\n",
            "|-114.610000|34.830000|         31.000000|2478.000000|    464.000000|1346.000000| 479.000000|     3.212000|      70400.000000|\n",
            "|-114.630000|32.760000|         15.000000|1448.000000|    378.000000| 949.000000| 300.000000|     0.858500|      45000.000000|\n",
            "|-114.650000|34.890000|         17.000000|2556.000000|    587.000000|1005.000000| 401.000000|     1.699100|      69100.000000|\n",
            "|-114.650000|33.600000|         28.000000|1678.000000|    322.000000| 666.000000| 256.000000|     2.965300|      94900.000000|\n",
            "|-114.650000|32.790000|         21.000000|  44.000000|     33.000000|  64.000000|  27.000000|     0.857100|      25000.000000|\n",
            "|-114.660000|32.740000|         17.000000|1388.000000|    386.000000| 775.000000| 320.000000|     1.204900|      44000.000000|\n",
            "+-----------+---------+------------------+-----------+--------------+-----------+-----------+-------------+------------------+\n",
            "only showing top 20 rows\n",
            "\n"
          ]
        }
      ]
    },
    {
      "cell_type": "code",
      "source": [
        "from pyspark.sql import SparkSession\n",
        "#SparkSession — way of initialization for basic PySpark functionality PySpark for creation of PySpark RDD, DataFrame and Dataset.\n",
        "#SparkSession internally creates SparkConfig and SparkContext\n",
        "spark = (SparkSession.builder\n",
        ".master(\"local[*]\")\n",
        ".appName('PySpark_Tutorial')\n",
        ".getOrCreate()\n",
        ")\n",
        "\n",
        "dept = [(\"Finance\",10), \n",
        "        (\"Marketing\",20), \n",
        "        (\"Sales\",30), \n",
        "        (\"IT\",40) \n",
        "      ]\n",
        "deptColumns = [\"dept_name\",\"dept_id\"]\n",
        "deptDF = spark.createDataFrame(data=dept, schema = deptColumns)\n",
        "deptDF.printSchema() \n",
        "deptDF.show(truncate=False) # display\n",
        "deptDF.write.csv('dataset.csv')"
      ],
      "metadata": {
        "colab": {
          "base_uri": "https://localhost:8080/"
        },
        "id": "vqjh17E7FSLA",
        "outputId": "c30e53e6-fb01-4ad7-8a5d-83e60abedae2"
      },
      "execution_count": null,
      "outputs": [
        {
          "output_type": "stream",
          "name": "stdout",
          "text": [
            "root\n",
            " |-- dept_name: string (nullable = true)\n",
            " |-- dept_id: long (nullable = true)\n",
            "\n",
            "+---------+-------+\n",
            "|dept_name|dept_id|\n",
            "+---------+-------+\n",
            "|Finance  |10     |\n",
            "|Marketing|20     |\n",
            "|Sales    |30     |\n",
            "|IT       |40     |\n",
            "+---------+-------+\n",
            "\n"
          ]
        }
      ]
    },
    {
      "cell_type": "code",
      "source": [
        "k = spark.read.csv('/content/sample_data/stocks_price_final.csv', header='True', sep=',')\n",
        "k.printSchema() # like describe"
      ],
      "metadata": {
        "id": "c2C7gjioF11s",
        "colab": {
          "base_uri": "https://localhost:8080/"
        },
        "outputId": "7661d8cf-2197-42d5-ecfa-0e9f5cbd257a"
      },
      "execution_count": null,
      "outputs": [
        {
          "output_type": "stream",
          "name": "stdout",
          "text": [
            "root\n",
            " |-- _c0: string (nullable = true)\n",
            " |-- symbol: string (nullable = true)\n",
            " |-- date: string (nullable = true)\n",
            " |-- open: string (nullable = true)\n",
            " |-- high: string (nullable = true)\n",
            " |-- low: string (nullable = true)\n",
            " |-- close: string (nullable = true)\n",
            " |-- volume: string (nullable = true)\n",
            " |-- adjusted: string (nullable = true)\n",
            " |-- market.cap: string (nullable = true)\n",
            " |-- sector: string (nullable = true)\n",
            " |-- industry: string (nullable = true)\n",
            " |-- exchange: string (nullable = true)\n",
            "\n"
          ]
        }
      ]
    },
    {
      "cell_type": "code",
      "source": [
        "from pyspark.sql.types import *\n",
        "# like cast()\n",
        "data_schema = [\n",
        "               StructField('_c0', IntegerType(), True),\n",
        "               StructField('symbol', StringType(), True),\n",
        "               StructField('date', DateType(), True),\n",
        "               StructField('open', DoubleType(), True),\n",
        "               StructField('high', DoubleType(), True),\n",
        "               StructField('low', DoubleType(), True),\n",
        "               StructField('close', DoubleType(), True),\n",
        "               StructField('volume', IntegerType(), True),\n",
        "               StructField('adjusted', DoubleType(), True),\n",
        "               StructField('market.cap', StringType(), True),\n",
        "               StructField('sector', StringType(), True),\n",
        "               StructField('industry', StringType(), True),\n",
        "               StructField('exchange', StringType(), True),\n",
        "            ]\n",
        "\n",
        "final_struc = StructType(fields = data_schema)\n",
        "data = spark.read.csv(\n",
        "    '/content/sample_data/stocks_price_final.csv',\n",
        "    sep=',',\n",
        "    header=True,\n",
        "    schema=final_struc \n",
        ")\n",
        "\n",
        "data.printSchema()"
      ],
      "metadata": {
        "colab": {
          "base_uri": "https://localhost:8080/"
        },
        "id": "mEClEnQMi6Mg",
        "outputId": "c707f5cb-29f2-4f67-9bb2-ab05cf8c8694"
      },
      "execution_count": null,
      "outputs": [
        {
          "output_type": "stream",
          "name": "stdout",
          "text": [
            "root\n",
            " |-- _c0: integer (nullable = true)\n",
            " |-- symbol: string (nullable = true)\n",
            " |-- date: date (nullable = true)\n",
            " |-- open: double (nullable = true)\n",
            " |-- high: double (nullable = true)\n",
            " |-- low: double (nullable = true)\n",
            " |-- close: double (nullable = true)\n",
            " |-- volume: integer (nullable = true)\n",
            " |-- adjusted: double (nullable = true)\n",
            " |-- market.cap: string (nullable = true)\n",
            " |-- sector: string (nullable = true)\n",
            " |-- industry: string (nullable = true)\n",
            " |-- exchange: string (nullable = true)\n",
            "\n"
          ]
        }
      ]
    },
    {
      "cell_type": "code",
      "source": [
        "k = spark.read.csv('/content/sample_data/stocks_price_final.csv',header = 'True', sep=',')\n",
        "k.dtypes #data column types"
      ],
      "metadata": {
        "colab": {
          "base_uri": "https://localhost:8080/"
        },
        "id": "GGHIH-dhjz4C",
        "outputId": "38b0e514-a746-4d20-ab22-7582fcf7bd55"
      },
      "execution_count": null,
      "outputs": [
        {
          "output_type": "execute_result",
          "data": {
            "text/plain": [
              "[('_c0', 'string'),\n",
              " ('symbol', 'string'),\n",
              " ('date', 'string'),\n",
              " ('open', 'string'),\n",
              " ('high', 'string'),\n",
              " ('low', 'string'),\n",
              " ('close', 'string'),\n",
              " ('volume', 'string'),\n",
              " ('adjusted', 'string'),\n",
              " ('market.cap', 'string'),\n",
              " ('sector', 'string'),\n",
              " ('industry', 'string'),\n",
              " ('exchange', 'string')]"
            ]
          },
          "metadata": {},
          "execution_count": 39
        }
      ]
    },
    {
      "cell_type": "code",
      "source": [
        "k.show(6) # ilike limit"
      ],
      "metadata": {
        "colab": {
          "base_uri": "https://localhost:8080/"
        },
        "id": "DafZBt92kZpH",
        "outputId": "d48123b9-5a51-456c-dd91-fe2b548e673b"
      },
      "execution_count": null,
      "outputs": [
        {
          "output_type": "stream",
          "name": "stdout",
          "text": [
            "+---+------+----------+---------+---------+---------+---------+-------+---------+----------+-------------+--------------------+--------+\n",
            "|_c0|symbol|      date|     open|     high|      low|    close| volume| adjusted|market.cap|       sector|            industry|exchange|\n",
            "+---+------+----------+---------+---------+---------+---------+-------+---------+----------+-------------+--------------------+--------+\n",
            "|  1|   TXG|2019-09-12|       54|       58|       51|    52.75|7326300|    52.75|    $9.31B|Capital Goods|Biotechnology: La...|  NASDAQ|\n",
            "|  2|   TXG|2019-09-13|    52.75|   54.355|49.150002|    52.27|1025200|    52.27|    $9.31B|Capital Goods|Biotechnology: La...|  NASDAQ|\n",
            "|  3|   TXG|2019-09-16|52.450001|       56|52.009998|55.200001| 269900|55.200001|    $9.31B|Capital Goods|Biotechnology: La...|  NASDAQ|\n",
            "|  4|   TXG|2019-09-17|56.209999|60.900002|   55.423|56.779999| 602800|56.779999|    $9.31B|Capital Goods|Biotechnology: La...|  NASDAQ|\n",
            "|  5|   TXG|2019-09-18|56.849998|    62.27|55.650002|       62|1589600|       62|    $9.31B|Capital Goods|Biotechnology: La...|  NASDAQ|\n",
            "|  6|   TXG|2019-09-19|62.810001|   63.375|61.029999|61.119999| 425200|61.119999|    $9.31B|Capital Goods|Biotechnology: La...|  NASDAQ|\n",
            "+---+------+----------+---------+---------+---------+---------+-------+---------+----------+-------------+--------------------+--------+\n",
            "only showing top 6 rows\n",
            "\n"
          ]
        }
      ]
    },
    {
      "cell_type": "code",
      "source": [
        "k.head(3) #returns rows as list"
      ],
      "metadata": {
        "colab": {
          "base_uri": "https://localhost:8080/"
        },
        "id": "1vkdeHuplz_1",
        "outputId": "132928f5-4e0a-4dbc-945a-04992d0179d9"
      },
      "execution_count": null,
      "outputs": [
        {
          "output_type": "execute_result",
          "data": {
            "text/plain": [
              "[Row(_c0='1', symbol='TXG', date='2019-09-12', open='54', high='58', low='51', close='52.75', volume='7326300', adjusted='52.75', market.cap='$9.31B', sector='Capital Goods', industry='Biotechnology: Laboratory Analytical Instruments', exchange='NASDAQ'),\n",
              " Row(_c0='2', symbol='TXG', date='2019-09-13', open='52.75', high='54.355', low='49.150002', close='52.27', volume='1025200', adjusted='52.27', market.cap='$9.31B', sector='Capital Goods', industry='Biotechnology: Laboratory Analytical Instruments', exchange='NASDAQ'),\n",
              " Row(_c0='3', symbol='TXG', date='2019-09-16', open='52.450001', high='56', low='52.009998', close='55.200001', volume='269900', adjusted='55.200001', market.cap='$9.31B', sector='Capital Goods', industry='Biotechnology: Laboratory Analytical Instruments', exchange='NASDAQ')]"
            ]
          },
          "metadata": {},
          "execution_count": 41
        }
      ]
    },
    {
      "cell_type": "code",
      "source": [
        "k.first() # rerturns first row"
      ],
      "metadata": {
        "colab": {
          "base_uri": "https://localhost:8080/"
        },
        "id": "5DDjBnL5l-el",
        "outputId": "eae10409-80e9-408d-ad46-7559538a25e2"
      },
      "execution_count": null,
      "outputs": [
        {
          "output_type": "execute_result",
          "data": {
            "text/plain": [
              "Row(_c0='1', symbol='TXG', date='2019-09-12', open='54', high='58', low='51', close='52.75', volume='7326300', adjusted='52.75', market.cap='$9.31B', sector='Capital Goods', industry='Biotechnology: Laboratory Analytical Instruments', exchange='NASDAQ')"
            ]
          },
          "metadata": {},
          "execution_count": 42
        }
      ]
    },
    {
      "cell_type": "code",
      "source": [
        "k.take(3) # returns rows as list (similar to k.head(3))"
      ],
      "metadata": {
        "colab": {
          "base_uri": "https://localhost:8080/"
        },
        "id": "ZlzPbFLtmIx7",
        "outputId": "a5e26879-988d-43a3-a91f-8abc6fc38330"
      },
      "execution_count": null,
      "outputs": [
        {
          "output_type": "execute_result",
          "data": {
            "text/plain": [
              "[Row(_c0='1', symbol='TXG', date='2019-09-12', open='54', high='58', low='51', close='52.75', volume='7326300', adjusted='52.75', market.cap='$9.31B', sector='Capital Goods', industry='Biotechnology: Laboratory Analytical Instruments', exchange='NASDAQ'),\n",
              " Row(_c0='2', symbol='TXG', date='2019-09-13', open='52.75', high='54.355', low='49.150002', close='52.27', volume='1025200', adjusted='52.27', market.cap='$9.31B', sector='Capital Goods', industry='Biotechnology: Laboratory Analytical Instruments', exchange='NASDAQ'),\n",
              " Row(_c0='3', symbol='TXG', date='2019-09-16', open='52.450001', high='56', low='52.009998', close='55.200001', volume='269900', adjusted='55.200001', market.cap='$9.31B', sector='Capital Goods', industry='Biotechnology: Laboratory Analytical Instruments', exchange='NASDAQ')]"
            ]
          },
          "metadata": {},
          "execution_count": 44
        }
      ]
    },
    {
      "cell_type": "code",
      "source": [
        "from pyspark.sql.types import *\n",
        "# like cast()\n",
        "data_schema = [\n",
        "               StructField('_c0', IntegerType(), True),\n",
        "               StructField('symbol', StringType(), True),\n",
        "               StructField('date', DateType(), True),\n",
        "               StructField('open', DoubleType(), True),\n",
        "               StructField('high', DoubleType(), True),\n",
        "               StructField('low', DoubleType(), True),\n",
        "               StructField('close', DoubleType(), True),\n",
        "               StructField('volume', IntegerType(), True),\n",
        "               StructField('adjusted', DoubleType(), True),\n",
        "               StructField('market.cap', StringType(), True),\n",
        "               StructField('sector', StringType(), True),\n",
        "               StructField('industry', StringType(), True),\n",
        "               StructField('exchange', StringType(), True),\n",
        "            ]\n",
        "\n",
        "final_struc = StructType(fields = data_schema)\n",
        "datak = spark.read.csv(\n",
        "    '/content/sample_data/stocks_price_final.csv',\n",
        "    sep=',',\n",
        "    header=True,\n",
        "    schema=final_struc \n",
        ")\n",
        "#datak.printSchema()\n",
        "datak.describe() #statistics for numerics like info in pd"
      ],
      "metadata": {
        "colab": {
          "base_uri": "https://localhost:8080/"
        },
        "id": "y3885m7CmTH_",
        "outputId": "c6dd9cad-0d05-4ddd-dc14-0324f8d55f5b"
      },
      "execution_count": null,
      "outputs": [
        {
          "output_type": "execute_result",
          "data": {
            "text/plain": [
              "DataFrame[summary: string, _c0: string, symbol: string, open: string, high: string, low: string, close: string, volume: string, adjusted: string, market.cap: string, sector: string, industry: string, exchange: string]"
            ]
          },
          "metadata": {},
          "execution_count": 46
        }
      ]
    },
    {
      "cell_type": "code",
      "source": [
        "k.columns #returns column names as list"
      ],
      "metadata": {
        "colab": {
          "base_uri": "https://localhost:8080/"
        },
        "id": "Jz2-J1eOmhUA",
        "outputId": "7a3bbd93-1db3-4d61-d2aa-468923e1ce9e"
      },
      "execution_count": null,
      "outputs": [
        {
          "output_type": "execute_result",
          "data": {
            "text/plain": [
              "['_c0',\n",
              " 'symbol',\n",
              " 'date',\n",
              " 'open',\n",
              " 'high',\n",
              " 'low',\n",
              " 'close',\n",
              " 'volume',\n",
              " 'adjusted',\n",
              " 'market.cap',\n",
              " 'sector',\n",
              " 'industry',\n",
              " 'exchange']"
            ]
          },
          "metadata": {},
          "execution_count": 48
        }
      ]
    },
    {
      "cell_type": "code",
      "source": [
        "k = spark.read.csv('/content/sample_data/stocks_price_final.csv', header='True', sep=',')\n",
        "k.count() #returns count of all rows in dataset"
      ],
      "metadata": {
        "colab": {
          "base_uri": "https://localhost:8080/"
        },
        "id": "782OmfJdm3bs",
        "outputId": "fedf655d-1e3b-4288-c3d5-4fd1b89dcc79"
      },
      "execution_count": null,
      "outputs": [
        {
          "output_type": "execute_result",
          "data": {
            "text/plain": [
              "2261246"
            ]
          },
          "metadata": {},
          "execution_count": 52
        }
      ]
    },
    {
      "cell_type": "code",
      "source": [
        "k.distinct().count() # ! cnt of distinct rows in dataset"
      ],
      "metadata": {
        "colab": {
          "base_uri": "https://localhost:8080/"
        },
        "id": "uZbQo-ErnsCs",
        "outputId": "929cd915-e29e-4741-e67b-3018c311add4"
      },
      "execution_count": null,
      "outputs": [
        {
          "output_type": "execute_result",
          "data": {
            "text/plain": [
              "1729101"
            ]
          },
          "metadata": {},
          "execution_count": 53
        }
      ]
    },
    {
      "cell_type": "code",
      "source": [
        "dd = spark.read.csv('/content/sample_data/stocks_price_final.csv', header='True', sep=',')\n",
        "dd = dd.withColumn('new_date_column', dd.date) # add new columns as copy of column called \"data\"\n",
        "dd.show(3)"
      ],
      "metadata": {
        "colab": {
          "base_uri": "https://localhost:8080/"
        },
        "id": "v1l1kNgdoUqE",
        "outputId": "c77ce1a4-7c57-4d3e-dfe1-af2b60a83318"
      },
      "execution_count": null,
      "outputs": [
        {
          "output_type": "stream",
          "name": "stdout",
          "text": [
            "+---+------+----------+---------+------+---------+---------+-------+---------+----------+-------------+--------------------+--------+---------------+\n",
            "|_c0|symbol|      date|     open|  high|      low|    close| volume| adjusted|market.cap|       sector|            industry|exchange|new_date_column|\n",
            "+---+------+----------+---------+------+---------+---------+-------+---------+----------+-------------+--------------------+--------+---------------+\n",
            "|  1|   TXG|2019-09-12|       54|    58|       51|    52.75|7326300|    52.75|    $9.31B|Capital Goods|Biotechnology: La...|  NASDAQ|     2019-09-12|\n",
            "|  2|   TXG|2019-09-13|    52.75|54.355|49.150002|    52.27|1025200|    52.27|    $9.31B|Capital Goods|Biotechnology: La...|  NASDAQ|     2019-09-13|\n",
            "|  3|   TXG|2019-09-16|52.450001|    56|52.009998|55.200001| 269900|55.200001|    $9.31B|Capital Goods|Biotechnology: La...|  NASDAQ|     2019-09-16|\n",
            "+---+------+----------+---------+------+---------+---------+-------+---------+----------+-------------+--------------------+--------+---------------+\n",
            "only showing top 3 rows\n",
            "\n"
          ]
        }
      ]
    },
    {
      "cell_type": "code",
      "source": [
        "dd = dd.withColumnRenamed('new_date_column', 'date_changed') #rename column\n",
        "dd.show(3)"
      ],
      "metadata": {
        "colab": {
          "base_uri": "https://localhost:8080/"
        },
        "id": "rH7XnF-mqDKV",
        "outputId": "6032a898-a1b8-46c8-d939-386feb7d7b65"
      },
      "execution_count": null,
      "outputs": [
        {
          "output_type": "stream",
          "name": "stdout",
          "text": [
            "+---+------+----------+---------+------+---------+---------+-------+---------+----------+-------------+--------------------+--------+------------+\n",
            "|_c0|symbol|      date|     open|  high|      low|    close| volume| adjusted|market.cap|       sector|            industry|exchange|date_changed|\n",
            "+---+------+----------+---------+------+---------+---------+-------+---------+----------+-------------+--------------------+--------+------------+\n",
            "|  1|   TXG|2019-09-12|       54|    58|       51|    52.75|7326300|    52.75|    $9.31B|Capital Goods|Biotechnology: La...|  NASDAQ|  2019-09-12|\n",
            "|  2|   TXG|2019-09-13|    52.75|54.355|49.150002|    52.27|1025200|    52.27|    $9.31B|Capital Goods|Biotechnology: La...|  NASDAQ|  2019-09-13|\n",
            "|  3|   TXG|2019-09-16|52.450001|    56|52.009998|55.200001| 269900|55.200001|    $9.31B|Capital Goods|Biotechnology: La...|  NASDAQ|  2019-09-16|\n",
            "+---+------+----------+---------+------+---------+---------+-------+---------+----------+-------------+--------------------+--------+------------+\n",
            "only showing top 3 rows\n",
            "\n"
          ]
        }
      ]
    },
    {
      "cell_type": "code",
      "source": [
        "dd = dd.drop('date_changed') #delete column\n",
        "dd.show(3)"
      ],
      "metadata": {
        "colab": {
          "base_uri": "https://localhost:8080/"
        },
        "id": "0hJWTrxIrWMz",
        "outputId": "931b950d-6d35-457c-dd7d-461a51418e43"
      },
      "execution_count": null,
      "outputs": [
        {
          "output_type": "stream",
          "name": "stdout",
          "text": [
            "+---+------+----------+---------+------+---------+---------+-------+---------+----------+-------------+--------------------+--------+\n",
            "|_c0|symbol|      date|     open|  high|      low|    close| volume| adjusted|market.cap|       sector|            industry|exchange|\n",
            "+---+------+----------+---------+------+---------+---------+-------+---------+----------+-------------+--------------------+--------+\n",
            "|  1|   TXG|2019-09-12|       54|    58|       51|    52.75|7326300|    52.75|    $9.31B|Capital Goods|Biotechnology: La...|  NASDAQ|\n",
            "|  2|   TXG|2019-09-13|    52.75|54.355|49.150002|    52.27|1025200|    52.27|    $9.31B|Capital Goods|Biotechnology: La...|  NASDAQ|\n",
            "|  3|   TXG|2019-09-16|52.450001|    56|52.009998|55.200001| 269900|55.200001|    $9.31B|Capital Goods|Biotechnology: La...|  NASDAQ|\n",
            "+---+------+----------+---------+------+---------+---------+-------+---------+----------+-------------+--------------------+--------+\n",
            "only showing top 3 rows\n",
            "\n"
          ]
        }
      ]
    },
    {
      "cell_type": "code",
      "source": [
        "dz = spark.read.csv('/content/sample_data/stocks_price_final.csv', header='True', sep=',')"
      ],
      "metadata": {
        "id": "dqCbOkWUreKt"
      },
      "execution_count": null,
      "outputs": []
    },
    {
      "cell_type": "code",
      "source": [
        "#dz = dd.withColumn('new_volume', dd.volume ) \n",
        "dz = dz.drop('exchange')\n",
        "#symbol, close, volume , adjusted, market.cap, exchange\n",
        "dz.show(3)"
      ],
      "metadata": {
        "colab": {
          "base_uri": "https://localhost:8080/"
        },
        "id": "wdmbi56-sulv",
        "outputId": "7e23c5fe-29b0-4c67-a81c-a73e576db5c7"
      },
      "execution_count": null,
      "outputs": [
        {
          "output_type": "stream",
          "name": "stdout",
          "text": [
            "+---+----------+---------+------+---------+-------------+--------------------+----------+\n",
            "|_c0|      date|     open|  high|      low|       sector|            industry|new_volume|\n",
            "+---+----------+---------+------+---------+-------------+--------------------+----------+\n",
            "|  1|2019-09-12|       54|    58|       51|Capital Goods|Biotechnology: La...|   7326300|\n",
            "|  2|2019-09-13|    52.75|54.355|49.150002|Capital Goods|Biotechnology: La...|   1025200|\n",
            "|  3|2019-09-16|52.450001|    56|52.009998|Capital Goods|Biotechnology: La...|    269900|\n",
            "+---+----------+---------+------+---------+-------------+--------------------+----------+\n",
            "only showing top 3 rows\n",
            "\n"
          ]
        }
      ]
    },
    {
      "cell_type": "code",
      "source": [
        "dz = dz.withColumnRenamed('high1', 'high')\n",
        "dz.show(3)"
      ],
      "metadata": {
        "colab": {
          "base_uri": "https://localhost:8080/"
        },
        "id": "X39gZgDisxDP",
        "outputId": "030cf18e-1062-4eb4-a89a-6fc9e338435d"
      },
      "execution_count": null,
      "outputs": [
        {
          "output_type": "stream",
          "name": "stdout",
          "text": [
            "+---+----------+---------+------+---------+-------------+--------------------+----------+\n",
            "|_c0|      date|     open|   low|     high|       sector|            industry|new_volume|\n",
            "+---+----------+---------+------+---------+-------------+--------------------+----------+\n",
            "|  1|2019-09-12|       54|    58|       51|Capital Goods|Biotechnology: La...|   7326300|\n",
            "|  2|2019-09-13|    52.75|54.355|49.150002|Capital Goods|Biotechnology: La...|   1025200|\n",
            "|  3|2019-09-16|52.450001|    56|52.009998|Capital Goods|Biotechnology: La...|    269900|\n",
            "+---+----------+---------+------+---------+-------------+--------------------+----------+\n",
            "only showing top 3 rows\n",
            "\n"
          ]
        }
      ]
    },
    {
      "cell_type": "code",
      "source": [
        "#dz = dz.withColumn('date1', dz.date) # add new columns as copy of column called \"data\"\n",
        "#dz = dz.drop('date')\n",
        "dz = dz.withColumnRenamed('date1', 'date')\n",
        "dz.show(3)"
      ],
      "metadata": {
        "colab": {
          "base_uri": "https://localhost:8080/"
        },
        "id": "1XUB7azRtK2T",
        "outputId": "2432ceed-4ec5-485a-cb4c-581ad80f4cf2"
      },
      "execution_count": null,
      "outputs": [
        {
          "output_type": "stream",
          "name": "stdout",
          "text": [
            "+---+---------+------+---------+-------------+--------------------+----------+----------+\n",
            "|_c0|     open|   low|     high|       sector|            industry|new_volume|      date|\n",
            "+---+---------+------+---------+-------------+--------------------+----------+----------+\n",
            "|  1|       54|    58|       51|Capital Goods|Biotechnology: La...|   7326300|2019-09-12|\n",
            "|  2|    52.75|54.355|49.150002|Capital Goods|Biotechnology: La...|   1025200|2019-09-13|\n",
            "|  3|52.450001|    56|52.009998|Capital Goods|Biotechnology: La...|    269900|2019-09-16|\n",
            "+---+---------+------+---------+-------------+--------------------+----------+----------+\n",
            "only showing top 3 rows\n",
            "\n"
          ]
        }
      ]
    },
    {
      "cell_type": "code",
      "source": [
        "data_schema = [\n",
        "               StructField('_c0', IntegerType(), nullable=True),\n",
        "               StructField('open', DoubleType(), True),\n",
        "               StructField('low', DoubleType(), True),\n",
        "               StructField('high', DoubleType(), True),\n",
        "               StructField('sector', StringType(), True),\n",
        "               StructField('industry', StringType(), True),\n",
        "               StructField('new_volume', IntegerType(), True),\n",
        "               StructField('date', DateType(), True)\n",
        "            ]\n",
        "\n",
        "final_struc = StructType(fields = data_schema)\n",
        "#dz = spark.read.csv(df_path, sep=',', header=True, schema=final_struc)"
      ],
      "metadata": {
        "id": "u2hCW5zltkyK"
      },
      "execution_count": null,
      "outputs": []
    },
    {
      "cell_type": "code",
      "source": [
        "csv_file = '/content/sample_data/california_housing_train.csv'\n",
        "df = spark.read.csv(csv_file)\n",
        "#df.head(4)\n",
        "df.take(4)"
      ],
      "metadata": {
        "colab": {
          "base_uri": "https://localhost:8080/"
        },
        "id": "oIY_boMB4H5m",
        "outputId": "4b26f8ab-e670-4e98-e9cc-4474551b6734"
      },
      "execution_count": null,
      "outputs": [
        {
          "output_type": "execute_result",
          "data": {
            "text/plain": [
              "[Row(_c0='longitude', _c1='latitude', _c2='housing_median_age', _c3='total_rooms', _c4='total_bedrooms', _c5='population', _c6='households', _c7='median_income', _c8='median_house_value'),\n",
              " Row(_c0='-114.310000', _c1='34.190000', _c2='15.000000', _c3='5612.000000', _c4='1283.000000', _c5='1015.000000', _c6='472.000000', _c7='1.493600', _c8='66900.000000'),\n",
              " Row(_c0='-114.470000', _c1='34.400000', _c2='19.000000', _c3='7650.000000', _c4='1901.000000', _c5='1129.000000', _c6='463.000000', _c7='1.820000', _c8='80100.000000'),\n",
              " Row(_c0='-114.560000', _c1='33.690000', _c2='17.000000', _c3='720.000000', _c4='174.000000', _c5='333.000000', _c6='117.000000', _c7='1.650900', _c8='85700.000000')]"
            ]
          },
          "metadata": {},
          "execution_count": 5
        }
      ]
    },
    {
      "cell_type": "code",
      "source": [],
      "metadata": {
        "id": "qA4R_VUK4KRC"
      },
      "execution_count": null,
      "outputs": []
    },
    {
      "cell_type": "markdown",
      "source": [
        "## **SkillFctory_DE_**"
      ],
      "metadata": {
        "id": "iEIYWxl2dFeI"
      }
    },
    {
      "cell_type": "code",
      "source": [
        "!pip install pyspark==3.0.1 py4j==0.10.9"
      ],
      "metadata": {
        "colab": {
          "base_uri": "https://localhost:8080/"
        },
        "id": "y8tgaejYdNU_",
        "outputId": "39885b4d-6184-4f30-d67f-d9b179c8dade"
      },
      "execution_count": 2,
      "outputs": [
        {
          "output_type": "stream",
          "name": "stdout",
          "text": [
            "Looking in indexes: https://pypi.org/simple, https://us-python.pkg.dev/colab-wheels/public/simple/\n",
            "Collecting pyspark==3.0.1\n",
            "  Downloading pyspark-3.0.1.tar.gz (204.2 MB)\n",
            "\u001b[2K     \u001b[90m━━━━━━━━━━━━━━━━━━━━━━━━━━━━━━━━━━━━━━━\u001b[0m \u001b[32m204.2/204.2 MB\u001b[0m \u001b[31m6.7 MB/s\u001b[0m eta \u001b[36m0:00:00\u001b[0m\n",
            "\u001b[?25h  Preparing metadata (setup.py) ... \u001b[?25l\u001b[?25hdone\n",
            "Collecting py4j==0.10.9\n",
            "  Downloading py4j-0.10.9-py2.py3-none-any.whl (198 kB)\n",
            "\u001b[2K     \u001b[90m━━━━━━━━━━━━━━━━━━━━━━━━━━━━━━━━━━━━━━\u001b[0m \u001b[32m198.6/198.6 kB\u001b[0m \u001b[31m18.8 MB/s\u001b[0m eta \u001b[36m0:00:00\u001b[0m\n",
            "\u001b[?25hBuilding wheels for collected packages: pyspark\n",
            "  Building wheel for pyspark (setup.py) ... \u001b[?25l\u001b[?25hdone\n",
            "  Created wheel for pyspark: filename=pyspark-3.0.1-py2.py3-none-any.whl size=204612229 sha256=3b3a5dd14b75c222efcc408811cb8aa040fb98780627f07cdb1bc12754ed130b\n",
            "  Stored in directory: /root/.cache/pip/wheels/19/b0/c8/6cb894117070e130fc44352c2a13f15b6c27e440d04a84fb48\n",
            "Successfully built pyspark\n",
            "Installing collected packages: py4j, pyspark\n",
            "  Attempting uninstall: py4j\n",
            "    Found existing installation: py4j 0.10.9.7\n",
            "    Uninstalling py4j-0.10.9.7:\n",
            "      Successfully uninstalled py4j-0.10.9.7\n",
            "Successfully installed py4j-0.10.9 pyspark-3.0.1\n"
          ]
        }
      ]
    },
    {
      "cell_type": "code",
      "source": [
        "from pyspark.sql import SparkSession\n",
        "spark = SparkSession.builder\\\n",
        "        .master(\"local[*]\")\\\n",
        "        .appName('PySpark_Tutorial')\\\n",
        "        .getOrCreate()"
      ],
      "metadata": {
        "id": "yvj1LzmYdOET"
      },
      "execution_count": 3,
      "outputs": []
    },
    {
      "cell_type": "code",
      "source": [
        "# цепочка обработки при чтении\n",
        "df2 = spark.read.format(\"csv\") \\\n",
        "    .option(\"mode\", \"FAILFAST\") \\\n",
        "    .option(\"inferSchema\", \"true\") \\\n",
        "    .option(\"header\",\"true\") \\\n",
        "    .option(\"path\", \"data_x/countries_of_the_world.csv\") \\\n",
        "    .load()"
      ],
      "metadata": {
        "id": "P_2IleYodJJM"
      },
      "execution_count": 5,
      "outputs": []
    },
    {
      "cell_type": "code",
      "source": [
        "df2.show(5)"
      ],
      "metadata": {
        "colab": {
          "base_uri": "https://localhost:8080/"
        },
        "id": "Fbf0n3lFdU4P",
        "outputId": "01c527f7-8f21-41be-ec40-64c0ee199069"
      },
      "execution_count": 7,
      "outputs": [
        {
          "output_type": "stream",
          "name": "stdout",
          "text": [
            "+---------------+--------------------+----------+--------------+--------------------------+----------------------------+-------------+----------------------------------+------------------+------------+-----------------+----------+---------+---------+-------+---------+---------+-----------+--------+-------+\n",
            "|        Country|              Region|Population|Area (sq. mi.)|Pop. Density (per sq. mi.)|Coastline (coast/area ratio)|Net migration|Infant mortality (per 1000 births)|GDP ($ per capita)|Literacy (%)|Phones (per 1000)|Arable (%)|Crops (%)|Other (%)|Climate|Birthrate|Deathrate|Agriculture|Industry|Service|\n",
            "+---------------+--------------------+----------+--------------+--------------------------+----------------------------+-------------+----------------------------------+------------------+------------+-----------------+----------+---------+---------+-------+---------+---------+-----------+--------+-------+\n",
            "|   Afghanistan |ASIA (EX. NEAR EA...|  31056997|        647500|                      48,0|                        0,00|        23,06|                            163,07|               700|        36,0|              3,2|     12,13|     0,22|    87,65|      1|     46,6|    20,34|       0,38|    0,24|   0,38|\n",
            "|       Albania |EASTERN EUROPE   ...|   3581655|         28748|                     124,6|                        1,26|        -4,93|                             21,52|              4500|        86,5|             71,2|     21,09|     4,42|    74,49|      3|    15,11|     5,22|      0,232|   0,188|  0,579|\n",
            "|       Algeria |NORTHERN AFRICA  ...|  32930091|       2381740|                      13,8|                        0,04|        -0,39|                                31|              6000|        70,0|             78,1|      3,22|     0,25|    96,53|      1|    17,14|     4,61|      0,101|     0,6|  0,298|\n",
            "|American Samoa |OCEANIA          ...|     57794|           199|                     290,4|                       58,29|       -20,71|                              9,27|              8000|        97,0|            259,5|        10|       15|       75|      2|    22,46|     3,27|       null|    null|   null|\n",
            "|       Andorra |WESTERN EUROPE   ...|     71201|           468|                     152,1|                        0,00|          6,6|                              4,05|             19000|       100,0|            497,2|      2,22|        0|    97,78|      3|     8,71|     6,25|       null|    null|   null|\n",
            "+---------------+--------------------+----------+--------------+--------------------------+----------------------------+-------------+----------------------------------+------------------+------------+-----------------+----------+---------+---------+-------+---------+---------+-----------+--------+-------+\n",
            "only showing top 5 rows\n",
            "\n"
          ]
        }
      ]
    },
    {
      "cell_type": "code",
      "source": [
        "df2.printSchema()"
      ],
      "metadata": {
        "colab": {
          "base_uri": "https://localhost:8080/"
        },
        "id": "VAqqcp_idt8C",
        "outputId": "2058ff18-2266-40ac-92a7-7e397e82c364"
      },
      "execution_count": 8,
      "outputs": [
        {
          "output_type": "stream",
          "name": "stdout",
          "text": [
            "root\n",
            " |-- Country: string (nullable = true)\n",
            " |-- Region: string (nullable = true)\n",
            " |-- Population: integer (nullable = true)\n",
            " |-- Area (sq. mi.): integer (nullable = true)\n",
            " |-- Pop. Density (per sq. mi.): string (nullable = true)\n",
            " |-- Coastline (coast/area ratio): string (nullable = true)\n",
            " |-- Net migration: string (nullable = true)\n",
            " |-- Infant mortality (per 1000 births): string (nullable = true)\n",
            " |-- GDP ($ per capita): integer (nullable = true)\n",
            " |-- Literacy (%): string (nullable = true)\n",
            " |-- Phones (per 1000): string (nullable = true)\n",
            " |-- Arable (%): string (nullable = true)\n",
            " |-- Crops (%): string (nullable = true)\n",
            " |-- Other (%): string (nullable = true)\n",
            " |-- Climate: string (nullable = true)\n",
            " |-- Birthrate: string (nullable = true)\n",
            " |-- Deathrate: string (nullable = true)\n",
            " |-- Agriculture: string (nullable = true)\n",
            " |-- Industry: string (nullable = true)\n",
            " |-- Service: string (nullable = true)\n",
            "\n"
          ]
        }
      ]
    },
    {
      "cell_type": "code",
      "source": [
        "# загрузим JSON\n",
        "dfj = sp.read.format(\"json\") \\\n",
        "    .option(\"mode\", \"FAILFAST\") \\\n",
        "    .option(\"inferSchema\", \"true\") \\\n",
        "    .option(\"path\", \"data/capital.json\") \\\n",
        "    .load()\n",
        "dfj.show(3)"
      ],
      "metadata": {
        "id": "98yWaykzeKiS"
      },
      "execution_count": null,
      "outputs": []
    },
    {
      "cell_type": "code",
      "source": [
        "# цепочка обработки при записи\n",
        "df.write.format(\"csv\") \\\n",
        "    .mode(\"overwrite\") \\\n",
        "    .option(\"sep\", \"\\t\") \\\n",
        "    .save(\"data/new.csv\")"
      ],
      "metadata": {
        "id": "c9wXLecve8KG"
      },
      "execution_count": null,
      "outputs": []
    },
    {
      "cell_type": "markdown",
      "source": [
        "# Work with DATABASES"
      ],
      "metadata": {
        "id": "QT-JTX15gUBt"
      }
    },
    {
      "cell_type": "code",
      "source": [
        "#%spark.pyspark\n",
        "#setting minimum of parameters\n",
        "df3 = spark.read.format(\"jdbc\") \\\n",
        "    .option(\"url\",\"jdbc:mysql://10.93.1.9/skillfactory\") \\\n",
        "    .option('driver',\"com.mysql.jdbc.Driver\") \\\n",
        "    .option(\"dbtable\",\"phones\") \\\n",
        "    .option(\"user\",\"mysql\") \\\n",
        "    .option(\"password\",\"arenadata\") \\\n",
        "    .load()"
      ],
      "metadata": {
        "id": "8nwhE3r7gX8v"
      },
      "execution_count": null,
      "outputs": []
    },
    {
      "cell_type": "code",
      "source": [
        "#write into Hive\n",
        "jdbcDF.write.format(\"parquet\") \\\n",
        "    .mode('overwrite') \\\n",
        "    .option(\"compression\",\"gzip\") \\\n",
        "    .saveAsTable(\"sp_phones\")"
      ],
      "metadata": {
        "id": "-4wMIXRNgyXX"
      },
      "execution_count": null,
      "outputs": []
    }
  ]
}