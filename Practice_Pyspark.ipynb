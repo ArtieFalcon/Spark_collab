{
  "nbformat": 4,
  "nbformat_minor": 0,
  "metadata": {
    "colab": {
      "provenance": [],
      "collapsed_sections": [
        "iuUdeV9EgnPn",
        "iEIYWxl2dFeI"
      ],
      "authorship_tag": "ABX9TyPVvrmyEbH0BDeYa3Vgknqi",
      "include_colab_link": true
    },
    "kernelspec": {
      "name": "python3",
      "display_name": "Python 3"
    },
    "language_info": {
      "name": "python"
    }
  },
  "cells": [
    {
      "cell_type": "markdown",
      "metadata": {
        "id": "view-in-github",
        "colab_type": "text"
      },
      "source": [
        "<a href=\"https://colab.research.google.com/github/ArtieFalcon/Spark_collab/blob/main/Practice_Pyspark.ipynb\" target=\"_parent\"><img src=\"https://colab.research.google.com/assets/colab-badge.svg\" alt=\"Open In Colab\"/></a>"
      ]
    },
    {
      "cell_type": "markdown",
      "source": [
        "## BASICS (Stepik)"
      ],
      "metadata": {
        "id": "iuUdeV9EgnPn"
      }
    },
    {
      "cell_type": "code",
      "execution_count": 2,
      "metadata": {
        "colab": {
          "base_uri": "https://localhost:8080/"
        },
        "id": "JyUfQGJ-EZaT",
        "outputId": "db090861-d249-4a2b-9298-f5d9a4ce55aa"
      },
      "outputs": [
        {
          "output_type": "stream",
          "name": "stdout",
          "text": [
            "Looking in indexes: https://pypi.org/simple, https://us-python.pkg.dev/colab-wheels/public/simple/\n",
            "Collecting pyspark==3.0.1\n",
            "  Downloading pyspark-3.0.1.tar.gz (204.2 MB)\n",
            "\u001b[2K     \u001b[90m━━━━━━━━━━━━━━━━━━━━━━━━━━━━━━━━━━━━━━━\u001b[0m \u001b[32m204.2/204.2 MB\u001b[0m \u001b[31m5.6 MB/s\u001b[0m eta \u001b[36m0:00:00\u001b[0m\n",
            "\u001b[?25h  Preparing metadata (setup.py) ... \u001b[?25l\u001b[?25hdone\n",
            "Collecting py4j==0.10.9\n",
            "  Downloading py4j-0.10.9-py2.py3-none-any.whl (198 kB)\n",
            "\u001b[2K     \u001b[90m━━━━━━━━━━━━━━━━━━━━━━━━━━━━━━━━━━━━━━\u001b[0m \u001b[32m198.6/198.6 kB\u001b[0m \u001b[31m23.1 MB/s\u001b[0m eta \u001b[36m0:00:00\u001b[0m\n",
            "\u001b[?25hBuilding wheels for collected packages: pyspark\n",
            "  Building wheel for pyspark (setup.py) ... \u001b[?25l\u001b[?25hdone\n",
            "  Created wheel for pyspark: filename=pyspark-3.0.1-py2.py3-none-any.whl size=204612229 sha256=4d8c747a3507d75881618c7070bb62dd525b25ca3e84d559221276f2315bba3f\n",
            "  Stored in directory: /root/.cache/pip/wheels/19/b0/c8/6cb894117070e130fc44352c2a13f15b6c27e440d04a84fb48\n",
            "Successfully built pyspark\n",
            "Installing collected packages: py4j, pyspark\n",
            "  Attempting uninstall: py4j\n",
            "    Found existing installation: py4j 0.10.9.7\n",
            "    Uninstalling py4j-0.10.9.7:\n",
            "      Successfully uninstalled py4j-0.10.9.7\n",
            "Successfully installed py4j-0.10.9 pyspark-3.0.1\n"
          ]
        }
      ],
      "source": [
        "!pip install pyspark==3.0.1 py4j==0.10.9"
      ]
    },
    {
      "cell_type": "code",
      "source": [
        "from pyspark.sql import SparkSession\n",
        "\n",
        "spark = SparkSession.builder\\\n",
        "        .master(\"local[*]\")\\\n",
        "        .appName('PySpark_Tutorial')\\\n",
        "        .getOrCreate()"
      ],
      "metadata": {
        "id": "yivYxtNTEdI3"
      },
      "execution_count": 3,
      "outputs": []
    },
    {
      "cell_type": "code",
      "source": [
        "csv_file = '/content/sample_data/california_housing_train.csv'\n",
        "df = spark.read.csv(csv_file)\n",
        "#df.head(4)\n",
        "df.show()"
      ],
      "metadata": {
        "id": "KDDgfodSFJHn",
        "colab": {
          "base_uri": "https://localhost:8080/"
        },
        "outputId": "8deba078-7ea4-4cb7-8237-39d6ef5e62b2"
      },
      "execution_count": null,
      "outputs": [
        {
          "output_type": "stream",
          "name": "stdout",
          "text": [
            "+-----------+---------+------------------+-----------+--------------+-----------+-----------+-------------+------------------+\n",
            "|        _c0|      _c1|               _c2|        _c3|           _c4|        _c5|        _c6|          _c7|               _c8|\n",
            "+-----------+---------+------------------+-----------+--------------+-----------+-----------+-------------+------------------+\n",
            "|  longitude| latitude|housing_median_age|total_rooms|total_bedrooms| population| households|median_income|median_house_value|\n",
            "|-114.310000|34.190000|         15.000000|5612.000000|   1283.000000|1015.000000| 472.000000|     1.493600|      66900.000000|\n",
            "|-114.470000|34.400000|         19.000000|7650.000000|   1901.000000|1129.000000| 463.000000|     1.820000|      80100.000000|\n",
            "|-114.560000|33.690000|         17.000000| 720.000000|    174.000000| 333.000000| 117.000000|     1.650900|      85700.000000|\n",
            "|-114.570000|33.640000|         14.000000|1501.000000|    337.000000| 515.000000| 226.000000|     3.191700|      73400.000000|\n",
            "|-114.570000|33.570000|         20.000000|1454.000000|    326.000000| 624.000000| 262.000000|     1.925000|      65500.000000|\n",
            "|-114.580000|33.630000|         29.000000|1387.000000|    236.000000| 671.000000| 239.000000|     3.343800|      74000.000000|\n",
            "|-114.580000|33.610000|         25.000000|2907.000000|    680.000000|1841.000000| 633.000000|     2.676800|      82400.000000|\n",
            "|-114.590000|34.830000|         41.000000| 812.000000|    168.000000| 375.000000| 158.000000|     1.708300|      48500.000000|\n",
            "|-114.590000|33.610000|         34.000000|4789.000000|   1175.000000|3134.000000|1056.000000|     2.178200|      58400.000000|\n",
            "|-114.600000|34.830000|         46.000000|1497.000000|    309.000000| 787.000000| 271.000000|     2.190800|      48100.000000|\n",
            "|-114.600000|33.620000|         16.000000|3741.000000|    801.000000|2434.000000| 824.000000|     2.679700|      86500.000000|\n",
            "|-114.600000|33.600000|         21.000000|1988.000000|    483.000000|1182.000000| 437.000000|     1.625000|      62000.000000|\n",
            "|-114.610000|34.840000|         48.000000|1291.000000|    248.000000| 580.000000| 211.000000|     2.157100|      48600.000000|\n",
            "|-114.610000|34.830000|         31.000000|2478.000000|    464.000000|1346.000000| 479.000000|     3.212000|      70400.000000|\n",
            "|-114.630000|32.760000|         15.000000|1448.000000|    378.000000| 949.000000| 300.000000|     0.858500|      45000.000000|\n",
            "|-114.650000|34.890000|         17.000000|2556.000000|    587.000000|1005.000000| 401.000000|     1.699100|      69100.000000|\n",
            "|-114.650000|33.600000|         28.000000|1678.000000|    322.000000| 666.000000| 256.000000|     2.965300|      94900.000000|\n",
            "|-114.650000|32.790000|         21.000000|  44.000000|     33.000000|  64.000000|  27.000000|     0.857100|      25000.000000|\n",
            "|-114.660000|32.740000|         17.000000|1388.000000|    386.000000| 775.000000| 320.000000|     1.204900|      44000.000000|\n",
            "+-----------+---------+------------------+-----------+--------------+-----------+-----------+-------------+------------------+\n",
            "only showing top 20 rows\n",
            "\n"
          ]
        }
      ]
    },
    {
      "cell_type": "code",
      "source": [
        "from pyspark.sql import SparkSession\n",
        "#SparkSession — way of initialization for basic PySpark functionality PySpark for creation of PySpark RDD, DataFrame and Dataset.\n",
        "#SparkSession internally creates SparkConfig and SparkContext\n",
        "spark = (SparkSession.builder\n",
        ".master(\"local[*]\")\n",
        ".appName('PySpark_Tutorial')\n",
        ".getOrCreate()\n",
        ")\n",
        "\n",
        "dept = [(\"Finance\",10), \n",
        "        (\"Marketing\",20), \n",
        "        (\"Sales\",30), \n",
        "        (\"IT\",40) \n",
        "      ]\n",
        "deptColumns = [\"dept_name\",\"dept_id\"]\n",
        "deptDF = spark.createDataFrame(data=dept, schema = deptColumns)\n",
        "deptDF.printSchema() \n",
        "deptDF.show(truncate=False) # display\n",
        "deptDF.write.csv('dataset.csv')"
      ],
      "metadata": {
        "colab": {
          "base_uri": "https://localhost:8080/"
        },
        "id": "vqjh17E7FSLA",
        "outputId": "c30e53e6-fb01-4ad7-8a5d-83e60abedae2"
      },
      "execution_count": null,
      "outputs": [
        {
          "output_type": "stream",
          "name": "stdout",
          "text": [
            "root\n",
            " |-- dept_name: string (nullable = true)\n",
            " |-- dept_id: long (nullable = true)\n",
            "\n",
            "+---------+-------+\n",
            "|dept_name|dept_id|\n",
            "+---------+-------+\n",
            "|Finance  |10     |\n",
            "|Marketing|20     |\n",
            "|Sales    |30     |\n",
            "|IT       |40     |\n",
            "+---------+-------+\n",
            "\n"
          ]
        }
      ]
    },
    {
      "cell_type": "code",
      "source": [
        "k = spark.read.csv('/content/stocks_price_final.csv', header='True', sep=',')\n",
        "k.printSchema() # like describe"
      ],
      "metadata": {
        "id": "c2C7gjioF11s",
        "colab": {
          "base_uri": "https://localhost:8080/"
        },
        "outputId": "aff3b820-7837-4e66-d25a-71fbd399e2c9"
      },
      "execution_count": 5,
      "outputs": [
        {
          "output_type": "stream",
          "name": "stdout",
          "text": [
            "root\n",
            " |-- _c0: string (nullable = true)\n",
            " |-- symbol: string (nullable = true)\n",
            " |-- date: string (nullable = true)\n",
            " |-- open: string (nullable = true)\n",
            " |-- high: string (nullable = true)\n",
            " |-- low: string (nullable = true)\n",
            " |-- close: string (nullable = true)\n",
            " |-- volume: string (nullable = true)\n",
            " |-- adjusted: string (nullable = true)\n",
            " |-- market.cap: string (nullable = true)\n",
            " |-- sector: string (nullable = true)\n",
            " |-- industry: string (nullable = true)\n",
            " |-- exchange: string (nullable = true)\n",
            "\n"
          ]
        }
      ]
    },
    {
      "cell_type": "code",
      "source": [
        "from pyspark.sql.types import *\n",
        "# like cast()\n",
        "data_schema = [\n",
        "               StructField('_c0', IntegerType(), True),\n",
        "               StructField('symbol', StringType(), True),\n",
        "               StructField('date', DateType(), True),\n",
        "               StructField('open', DoubleType(), True),\n",
        "               StructField('high', DoubleType(), True),\n",
        "               StructField('low', DoubleType(), True),\n",
        "               StructField('close', DoubleType(), True),\n",
        "               StructField('volume', IntegerType(), True),\n",
        "               StructField('adjusted', DoubleType(), True),\n",
        "               StructField('market.cap', StringType(), True),\n",
        "               StructField('sector', StringType(), True),\n",
        "               StructField('industry', StringType(), True),\n",
        "               StructField('exchange', StringType(), True),\n",
        "            ]\n",
        "\n",
        "final_struc = StructType(fields = data_schema)\n",
        "data = spark.read.csv(\n",
        "    '/content/sample_data/stocks_price_final.csv',\n",
        "    sep=',',\n",
        "    header=True,\n",
        "    schema=final_struc \n",
        ")\n",
        "\n",
        "data.printSchema()"
      ],
      "metadata": {
        "colab": {
          "base_uri": "https://localhost:8080/"
        },
        "id": "mEClEnQMi6Mg",
        "outputId": "c707f5cb-29f2-4f67-9bb2-ab05cf8c8694"
      },
      "execution_count": null,
      "outputs": [
        {
          "output_type": "stream",
          "name": "stdout",
          "text": [
            "root\n",
            " |-- _c0: integer (nullable = true)\n",
            " |-- symbol: string (nullable = true)\n",
            " |-- date: date (nullable = true)\n",
            " |-- open: double (nullable = true)\n",
            " |-- high: double (nullable = true)\n",
            " |-- low: double (nullable = true)\n",
            " |-- close: double (nullable = true)\n",
            " |-- volume: integer (nullable = true)\n",
            " |-- adjusted: double (nullable = true)\n",
            " |-- market.cap: string (nullable = true)\n",
            " |-- sector: string (nullable = true)\n",
            " |-- industry: string (nullable = true)\n",
            " |-- exchange: string (nullable = true)\n",
            "\n"
          ]
        }
      ]
    },
    {
      "cell_type": "code",
      "source": [
        "from pyspark.sql.types import *\n",
        "data_schema = [\n",
        "               StructField('_c0', IntegerType(), nullable=True),\n",
        "               StructField('symbol', StringType(), True),\n",
        "               StructField('date', DateType(), True),\n",
        "               StructField('open', DoubleType(), True),\n",
        "               StructField('high', DoubleType(), True),\n",
        "               StructField('low', DoubleType(), True),\n",
        "               StructField('close', DoubleType(), True),\n",
        "               StructField('volume', IntegerType(), True),\n",
        "               StructField('adjusted', DoubleType(), True),\n",
        "               StructField('market.cap', StringType(), True),\n",
        "               StructField('sector', StringType(), True),\n",
        "               StructField('industry', StringType(), True),\n",
        "               StructField('exchange', StringType(), True),\n",
        "            ]\n",
        "\n",
        "final_struc = StructType(fields = data_schema)\n",
        "\n",
        "data1 = spark.read.csv('/content/sample_data/stocks_price_final.csv', sep=',', header=True, schema=final_struc).withColumnRenamed('market.cap','market_cap')"
      ],
      "metadata": {
        "id": "njDXEpf-vLJq"
      },
      "execution_count": 7,
      "outputs": []
    },
    {
      "cell_type": "code",
      "source": [
        "data1.count()"
      ],
      "metadata": {
        "id": "fytkeJhGvn9E",
        "outputId": "75081230-060f-4e0f-c634-f559a818ea54",
        "colab": {
          "base_uri": "https://localhost:8080/"
        }
      },
      "execution_count": 9,
      "outputs": [
        {
          "output_type": "execute_result",
          "data": {
            "text/plain": [
              "228027"
            ]
          },
          "metadata": {},
          "execution_count": 9
        }
      ]
    },
    {
      "cell_type": "code",
      "source": [
        "data2 = data1.withColumnRenamed('market.cap', 'mcap')"
      ],
      "metadata": {
        "id": "Rrl683SswR-R"
      },
      "execution_count": 13,
      "outputs": []
    },
    {
      "cell_type": "code",
      "source": [
        "# Удаление строк с пропущенными значениями\n",
        "data2_no_na = data2.na.drop()"
      ],
      "metadata": {
        "id": "Rc4as6Khv0cq"
      },
      "execution_count": 14,
      "outputs": []
    },
    {
      "cell_type": "code",
      "source": [
        "data1.count() - data2_no_na.count()"
      ],
      "metadata": {
        "id": "SYSa8NUhv_eT",
        "outputId": "d390b60d-8100-43e1-80cb-4f0eb9672f97",
        "colab": {
          "base_uri": "https://localhost:8080/"
        }
      },
      "execution_count": 15,
      "outputs": [
        {
          "output_type": "execute_result",
          "data": {
            "text/plain": [
              "831"
            ]
          },
          "metadata": {},
          "execution_count": 15
        }
      ]
    },
    {
      "cell_type": "code",
      "source": [
        "k = spark.read.csv('/content/sample_data/stocks_price_final.csv',header = 'True', sep=',')\n",
        "k.dtypes #data column types"
      ],
      "metadata": {
        "colab": {
          "base_uri": "https://localhost:8080/"
        },
        "id": "GGHIH-dhjz4C",
        "outputId": "38b0e514-a746-4d20-ab22-7582fcf7bd55"
      },
      "execution_count": null,
      "outputs": [
        {
          "output_type": "execute_result",
          "data": {
            "text/plain": [
              "[('_c0', 'string'),\n",
              " ('symbol', 'string'),\n",
              " ('date', 'string'),\n",
              " ('open', 'string'),\n",
              " ('high', 'string'),\n",
              " ('low', 'string'),\n",
              " ('close', 'string'),\n",
              " ('volume', 'string'),\n",
              " ('adjusted', 'string'),\n",
              " ('market.cap', 'string'),\n",
              " ('sector', 'string'),\n",
              " ('industry', 'string'),\n",
              " ('exchange', 'string')]"
            ]
          },
          "metadata": {},
          "execution_count": 39
        }
      ]
    },
    {
      "cell_type": "code",
      "source": [
        "k.show(6) # ilike limit"
      ],
      "metadata": {
        "colab": {
          "base_uri": "https://localhost:8080/"
        },
        "id": "DafZBt92kZpH",
        "outputId": "d48123b9-5a51-456c-dd91-fe2b548e673b"
      },
      "execution_count": null,
      "outputs": [
        {
          "output_type": "stream",
          "name": "stdout",
          "text": [
            "+---+------+----------+---------+---------+---------+---------+-------+---------+----------+-------------+--------------------+--------+\n",
            "|_c0|symbol|      date|     open|     high|      low|    close| volume| adjusted|market.cap|       sector|            industry|exchange|\n",
            "+---+------+----------+---------+---------+---------+---------+-------+---------+----------+-------------+--------------------+--------+\n",
            "|  1|   TXG|2019-09-12|       54|       58|       51|    52.75|7326300|    52.75|    $9.31B|Capital Goods|Biotechnology: La...|  NASDAQ|\n",
            "|  2|   TXG|2019-09-13|    52.75|   54.355|49.150002|    52.27|1025200|    52.27|    $9.31B|Capital Goods|Biotechnology: La...|  NASDAQ|\n",
            "|  3|   TXG|2019-09-16|52.450001|       56|52.009998|55.200001| 269900|55.200001|    $9.31B|Capital Goods|Biotechnology: La...|  NASDAQ|\n",
            "|  4|   TXG|2019-09-17|56.209999|60.900002|   55.423|56.779999| 602800|56.779999|    $9.31B|Capital Goods|Biotechnology: La...|  NASDAQ|\n",
            "|  5|   TXG|2019-09-18|56.849998|    62.27|55.650002|       62|1589600|       62|    $9.31B|Capital Goods|Biotechnology: La...|  NASDAQ|\n",
            "|  6|   TXG|2019-09-19|62.810001|   63.375|61.029999|61.119999| 425200|61.119999|    $9.31B|Capital Goods|Biotechnology: La...|  NASDAQ|\n",
            "+---+------+----------+---------+---------+---------+---------+-------+---------+----------+-------------+--------------------+--------+\n",
            "only showing top 6 rows\n",
            "\n"
          ]
        }
      ]
    },
    {
      "cell_type": "code",
      "source": [
        "k.head(3) #returns rows as list"
      ],
      "metadata": {
        "colab": {
          "base_uri": "https://localhost:8080/"
        },
        "id": "1vkdeHuplz_1",
        "outputId": "132928f5-4e0a-4dbc-945a-04992d0179d9"
      },
      "execution_count": null,
      "outputs": [
        {
          "output_type": "execute_result",
          "data": {
            "text/plain": [
              "[Row(_c0='1', symbol='TXG', date='2019-09-12', open='54', high='58', low='51', close='52.75', volume='7326300', adjusted='52.75', market.cap='$9.31B', sector='Capital Goods', industry='Biotechnology: Laboratory Analytical Instruments', exchange='NASDAQ'),\n",
              " Row(_c0='2', symbol='TXG', date='2019-09-13', open='52.75', high='54.355', low='49.150002', close='52.27', volume='1025200', adjusted='52.27', market.cap='$9.31B', sector='Capital Goods', industry='Biotechnology: Laboratory Analytical Instruments', exchange='NASDAQ'),\n",
              " Row(_c0='3', symbol='TXG', date='2019-09-16', open='52.450001', high='56', low='52.009998', close='55.200001', volume='269900', adjusted='55.200001', market.cap='$9.31B', sector='Capital Goods', industry='Biotechnology: Laboratory Analytical Instruments', exchange='NASDAQ')]"
            ]
          },
          "metadata": {},
          "execution_count": 41
        }
      ]
    },
    {
      "cell_type": "code",
      "source": [
        "k.first() # rerturns first row"
      ],
      "metadata": {
        "colab": {
          "base_uri": "https://localhost:8080/"
        },
        "id": "5DDjBnL5l-el",
        "outputId": "eae10409-80e9-408d-ad46-7559538a25e2"
      },
      "execution_count": null,
      "outputs": [
        {
          "output_type": "execute_result",
          "data": {
            "text/plain": [
              "Row(_c0='1', symbol='TXG', date='2019-09-12', open='54', high='58', low='51', close='52.75', volume='7326300', adjusted='52.75', market.cap='$9.31B', sector='Capital Goods', industry='Biotechnology: Laboratory Analytical Instruments', exchange='NASDAQ')"
            ]
          },
          "metadata": {},
          "execution_count": 42
        }
      ]
    },
    {
      "cell_type": "code",
      "source": [
        "k.take(3) # returns rows as list (similar to k.head(3))"
      ],
      "metadata": {
        "colab": {
          "base_uri": "https://localhost:8080/"
        },
        "id": "ZlzPbFLtmIx7",
        "outputId": "a5e26879-988d-43a3-a91f-8abc6fc38330"
      },
      "execution_count": null,
      "outputs": [
        {
          "output_type": "execute_result",
          "data": {
            "text/plain": [
              "[Row(_c0='1', symbol='TXG', date='2019-09-12', open='54', high='58', low='51', close='52.75', volume='7326300', adjusted='52.75', market.cap='$9.31B', sector='Capital Goods', industry='Biotechnology: Laboratory Analytical Instruments', exchange='NASDAQ'),\n",
              " Row(_c0='2', symbol='TXG', date='2019-09-13', open='52.75', high='54.355', low='49.150002', close='52.27', volume='1025200', adjusted='52.27', market.cap='$9.31B', sector='Capital Goods', industry='Biotechnology: Laboratory Analytical Instruments', exchange='NASDAQ'),\n",
              " Row(_c0='3', symbol='TXG', date='2019-09-16', open='52.450001', high='56', low='52.009998', close='55.200001', volume='269900', adjusted='55.200001', market.cap='$9.31B', sector='Capital Goods', industry='Biotechnology: Laboratory Analytical Instruments', exchange='NASDAQ')]"
            ]
          },
          "metadata": {},
          "execution_count": 44
        }
      ]
    },
    {
      "cell_type": "code",
      "source": [
        "from pyspark.sql.types import *\n",
        "# like cast()\n",
        "data_schema = [\n",
        "               StructField('_c0', IntegerType(), True),\n",
        "               StructField('symbol', StringType(), True),\n",
        "               StructField('date', DateType(), True),\n",
        "               StructField('open', DoubleType(), True),\n",
        "               StructField('high', DoubleType(), True),\n",
        "               StructField('low', DoubleType(), True),\n",
        "               StructField('close', DoubleType(), True),\n",
        "               StructField('volume', IntegerType(), True),\n",
        "               StructField('adjusted', DoubleType(), True),\n",
        "               StructField('market.cap', StringType(), True),\n",
        "               StructField('sector', StringType(), True),\n",
        "               StructField('industry', StringType(), True),\n",
        "               StructField('exchange', StringType(), True),\n",
        "            ]\n",
        "\n",
        "final_struc = StructType(fields = data_schema)\n",
        "datak = spark.read.csv(\n",
        "    '/content/sample_data/stocks_price_final.csv',\n",
        "    sep=',',\n",
        "    header=True,\n",
        "    schema=final_struc \n",
        ")\n",
        "#datak.printSchema()\n",
        "datak.describe() #statistics for numerics like info in pd"
      ],
      "metadata": {
        "colab": {
          "base_uri": "https://localhost:8080/"
        },
        "id": "y3885m7CmTH_",
        "outputId": "c6dd9cad-0d05-4ddd-dc14-0324f8d55f5b"
      },
      "execution_count": null,
      "outputs": [
        {
          "output_type": "execute_result",
          "data": {
            "text/plain": [
              "DataFrame[summary: string, _c0: string, symbol: string, open: string, high: string, low: string, close: string, volume: string, adjusted: string, market.cap: string, sector: string, industry: string, exchange: string]"
            ]
          },
          "metadata": {},
          "execution_count": 46
        }
      ]
    },
    {
      "cell_type": "code",
      "source": [
        "k.columns #returns column names as list"
      ],
      "metadata": {
        "colab": {
          "base_uri": "https://localhost:8080/"
        },
        "id": "Jz2-J1eOmhUA",
        "outputId": "7a3bbd93-1db3-4d61-d2aa-468923e1ce9e"
      },
      "execution_count": null,
      "outputs": [
        {
          "output_type": "execute_result",
          "data": {
            "text/plain": [
              "['_c0',\n",
              " 'symbol',\n",
              " 'date',\n",
              " 'open',\n",
              " 'high',\n",
              " 'low',\n",
              " 'close',\n",
              " 'volume',\n",
              " 'adjusted',\n",
              " 'market.cap',\n",
              " 'sector',\n",
              " 'industry',\n",
              " 'exchange']"
            ]
          },
          "metadata": {},
          "execution_count": 48
        }
      ]
    },
    {
      "cell_type": "code",
      "source": [
        "k = spark.read.csv('/content/sample_data/stocks_price_final.csv', header='True', sep=',')\n",
        "k.count() #returns count of all rows in dataset"
      ],
      "metadata": {
        "colab": {
          "base_uri": "https://localhost:8080/"
        },
        "id": "782OmfJdm3bs",
        "outputId": "fedf655d-1e3b-4288-c3d5-4fd1b89dcc79"
      },
      "execution_count": null,
      "outputs": [
        {
          "output_type": "execute_result",
          "data": {
            "text/plain": [
              "2261246"
            ]
          },
          "metadata": {},
          "execution_count": 52
        }
      ]
    },
    {
      "cell_type": "code",
      "source": [
        "k.distinct().count() # ! cnt of distinct rows in dataset"
      ],
      "metadata": {
        "colab": {
          "base_uri": "https://localhost:8080/"
        },
        "id": "uZbQo-ErnsCs",
        "outputId": "929cd915-e29e-4741-e67b-3018c311add4"
      },
      "execution_count": null,
      "outputs": [
        {
          "output_type": "execute_result",
          "data": {
            "text/plain": [
              "1729101"
            ]
          },
          "metadata": {},
          "execution_count": 53
        }
      ]
    },
    {
      "cell_type": "code",
      "source": [
        "dd = spark.read.csv('/content/sample_data/stocks_price_final.csv', header='True', sep=',')\n",
        "dd = dd.withColumn('new_date_column', dd.date) # add new columns as copy of column called \"data\"\n",
        "dd.show(3)"
      ],
      "metadata": {
        "colab": {
          "base_uri": "https://localhost:8080/"
        },
        "id": "v1l1kNgdoUqE",
        "outputId": "c77ce1a4-7c57-4d3e-dfe1-af2b60a83318"
      },
      "execution_count": null,
      "outputs": [
        {
          "output_type": "stream",
          "name": "stdout",
          "text": [
            "+---+------+----------+---------+------+---------+---------+-------+---------+----------+-------------+--------------------+--------+---------------+\n",
            "|_c0|symbol|      date|     open|  high|      low|    close| volume| adjusted|market.cap|       sector|            industry|exchange|new_date_column|\n",
            "+---+------+----------+---------+------+---------+---------+-------+---------+----------+-------------+--------------------+--------+---------------+\n",
            "|  1|   TXG|2019-09-12|       54|    58|       51|    52.75|7326300|    52.75|    $9.31B|Capital Goods|Biotechnology: La...|  NASDAQ|     2019-09-12|\n",
            "|  2|   TXG|2019-09-13|    52.75|54.355|49.150002|    52.27|1025200|    52.27|    $9.31B|Capital Goods|Biotechnology: La...|  NASDAQ|     2019-09-13|\n",
            "|  3|   TXG|2019-09-16|52.450001|    56|52.009998|55.200001| 269900|55.200001|    $9.31B|Capital Goods|Biotechnology: La...|  NASDAQ|     2019-09-16|\n",
            "+---+------+----------+---------+------+---------+---------+-------+---------+----------+-------------+--------------------+--------+---------------+\n",
            "only showing top 3 rows\n",
            "\n"
          ]
        }
      ]
    },
    {
      "cell_type": "code",
      "source": [
        "dd = dd.withColumnRenamed('new_date_column', 'date_changed') #rename column\n",
        "dd.show(3)"
      ],
      "metadata": {
        "colab": {
          "base_uri": "https://localhost:8080/"
        },
        "id": "rH7XnF-mqDKV",
        "outputId": "6032a898-a1b8-46c8-d939-386feb7d7b65"
      },
      "execution_count": null,
      "outputs": [
        {
          "output_type": "stream",
          "name": "stdout",
          "text": [
            "+---+------+----------+---------+------+---------+---------+-------+---------+----------+-------------+--------------------+--------+------------+\n",
            "|_c0|symbol|      date|     open|  high|      low|    close| volume| adjusted|market.cap|       sector|            industry|exchange|date_changed|\n",
            "+---+------+----------+---------+------+---------+---------+-------+---------+----------+-------------+--------------------+--------+------------+\n",
            "|  1|   TXG|2019-09-12|       54|    58|       51|    52.75|7326300|    52.75|    $9.31B|Capital Goods|Biotechnology: La...|  NASDAQ|  2019-09-12|\n",
            "|  2|   TXG|2019-09-13|    52.75|54.355|49.150002|    52.27|1025200|    52.27|    $9.31B|Capital Goods|Biotechnology: La...|  NASDAQ|  2019-09-13|\n",
            "|  3|   TXG|2019-09-16|52.450001|    56|52.009998|55.200001| 269900|55.200001|    $9.31B|Capital Goods|Biotechnology: La...|  NASDAQ|  2019-09-16|\n",
            "+---+------+----------+---------+------+---------+---------+-------+---------+----------+-------------+--------------------+--------+------------+\n",
            "only showing top 3 rows\n",
            "\n"
          ]
        }
      ]
    },
    {
      "cell_type": "code",
      "source": [
        "dd = dd.drop('date_changed') #delete column\n",
        "dd.show(3)"
      ],
      "metadata": {
        "colab": {
          "base_uri": "https://localhost:8080/"
        },
        "id": "0hJWTrxIrWMz",
        "outputId": "931b950d-6d35-457c-dd7d-461a51418e43"
      },
      "execution_count": null,
      "outputs": [
        {
          "output_type": "stream",
          "name": "stdout",
          "text": [
            "+---+------+----------+---------+------+---------+---------+-------+---------+----------+-------------+--------------------+--------+\n",
            "|_c0|symbol|      date|     open|  high|      low|    close| volume| adjusted|market.cap|       sector|            industry|exchange|\n",
            "+---+------+----------+---------+------+---------+---------+-------+---------+----------+-------------+--------------------+--------+\n",
            "|  1|   TXG|2019-09-12|       54|    58|       51|    52.75|7326300|    52.75|    $9.31B|Capital Goods|Biotechnology: La...|  NASDAQ|\n",
            "|  2|   TXG|2019-09-13|    52.75|54.355|49.150002|    52.27|1025200|    52.27|    $9.31B|Capital Goods|Biotechnology: La...|  NASDAQ|\n",
            "|  3|   TXG|2019-09-16|52.450001|    56|52.009998|55.200001| 269900|55.200001|    $9.31B|Capital Goods|Biotechnology: La...|  NASDAQ|\n",
            "+---+------+----------+---------+------+---------+---------+-------+---------+----------+-------------+--------------------+--------+\n",
            "only showing top 3 rows\n",
            "\n"
          ]
        }
      ]
    },
    {
      "cell_type": "code",
      "source": [
        "dz = spark.read.csv('/content/sample_data/stocks_price_final.csv', header='True', sep=',')"
      ],
      "metadata": {
        "id": "dqCbOkWUreKt"
      },
      "execution_count": null,
      "outputs": []
    },
    {
      "cell_type": "code",
      "source": [
        "#dz = dd.withColumn('new_volume', dd.volume ) \n",
        "dz = dz.drop('exchange')\n",
        "#symbol, close, volume , adjusted, market.cap, exchange\n",
        "dz.show(3)"
      ],
      "metadata": {
        "colab": {
          "base_uri": "https://localhost:8080/"
        },
        "id": "wdmbi56-sulv",
        "outputId": "7e23c5fe-29b0-4c67-a81c-a73e576db5c7"
      },
      "execution_count": null,
      "outputs": [
        {
          "output_type": "stream",
          "name": "stdout",
          "text": [
            "+---+----------+---------+------+---------+-------------+--------------------+----------+\n",
            "|_c0|      date|     open|  high|      low|       sector|            industry|new_volume|\n",
            "+---+----------+---------+------+---------+-------------+--------------------+----------+\n",
            "|  1|2019-09-12|       54|    58|       51|Capital Goods|Biotechnology: La...|   7326300|\n",
            "|  2|2019-09-13|    52.75|54.355|49.150002|Capital Goods|Biotechnology: La...|   1025200|\n",
            "|  3|2019-09-16|52.450001|    56|52.009998|Capital Goods|Biotechnology: La...|    269900|\n",
            "+---+----------+---------+------+---------+-------------+--------------------+----------+\n",
            "only showing top 3 rows\n",
            "\n"
          ]
        }
      ]
    },
    {
      "cell_type": "code",
      "source": [
        "dz = dz.withColumnRenamed('high1', 'high')\n",
        "dz.show(3)"
      ],
      "metadata": {
        "colab": {
          "base_uri": "https://localhost:8080/"
        },
        "id": "X39gZgDisxDP",
        "outputId": "030cf18e-1062-4eb4-a89a-6fc9e338435d"
      },
      "execution_count": null,
      "outputs": [
        {
          "output_type": "stream",
          "name": "stdout",
          "text": [
            "+---+----------+---------+------+---------+-------------+--------------------+----------+\n",
            "|_c0|      date|     open|   low|     high|       sector|            industry|new_volume|\n",
            "+---+----------+---------+------+---------+-------------+--------------------+----------+\n",
            "|  1|2019-09-12|       54|    58|       51|Capital Goods|Biotechnology: La...|   7326300|\n",
            "|  2|2019-09-13|    52.75|54.355|49.150002|Capital Goods|Biotechnology: La...|   1025200|\n",
            "|  3|2019-09-16|52.450001|    56|52.009998|Capital Goods|Biotechnology: La...|    269900|\n",
            "+---+----------+---------+------+---------+-------------+--------------------+----------+\n",
            "only showing top 3 rows\n",
            "\n"
          ]
        }
      ]
    },
    {
      "cell_type": "code",
      "source": [
        "#dz = dz.withColumn('date1', dz.date) # add new columns as copy of column called \"data\"\n",
        "#dz = dz.drop('date')\n",
        "dz = dz.withColumnRenamed('date1', 'date')\n",
        "dz.show(3)"
      ],
      "metadata": {
        "colab": {
          "base_uri": "https://localhost:8080/"
        },
        "id": "1XUB7azRtK2T",
        "outputId": "2432ceed-4ec5-485a-cb4c-581ad80f4cf2"
      },
      "execution_count": null,
      "outputs": [
        {
          "output_type": "stream",
          "name": "stdout",
          "text": [
            "+---+---------+------+---------+-------------+--------------------+----------+----------+\n",
            "|_c0|     open|   low|     high|       sector|            industry|new_volume|      date|\n",
            "+---+---------+------+---------+-------------+--------------------+----------+----------+\n",
            "|  1|       54|    58|       51|Capital Goods|Biotechnology: La...|   7326300|2019-09-12|\n",
            "|  2|    52.75|54.355|49.150002|Capital Goods|Biotechnology: La...|   1025200|2019-09-13|\n",
            "|  3|52.450001|    56|52.009998|Capital Goods|Biotechnology: La...|    269900|2019-09-16|\n",
            "+---+---------+------+---------+-------------+--------------------+----------+----------+\n",
            "only showing top 3 rows\n",
            "\n"
          ]
        }
      ]
    },
    {
      "cell_type": "code",
      "source": [
        "data_schema = [\n",
        "               StructField('_c0', IntegerType(), nullable=True),\n",
        "               StructField('open', DoubleType(), True),\n",
        "               StructField('low', DoubleType(), True),\n",
        "               StructField('high', DoubleType(), True),\n",
        "               StructField('sector', StringType(), True),\n",
        "               StructField('industry', StringType(), True),\n",
        "               StructField('new_volume', IntegerType(), True),\n",
        "               StructField('date', DateType(), True)\n",
        "            ]\n",
        "\n",
        "final_struc = StructType(fields = data_schema)\n",
        "#dz = spark.read.csv(df_path, sep=',', header=True, schema=final_struc)"
      ],
      "metadata": {
        "id": "u2hCW5zltkyK"
      },
      "execution_count": null,
      "outputs": []
    },
    {
      "cell_type": "code",
      "source": [
        "csv_file = '/content/sample_data/california_housing_train.csv'\n",
        "df = spark.read.csv(csv_file)\n",
        "#df.head(4)\n",
        "df.take(4)"
      ],
      "metadata": {
        "colab": {
          "base_uri": "https://localhost:8080/"
        },
        "id": "oIY_boMB4H5m",
        "outputId": "4b26f8ab-e670-4e98-e9cc-4474551b6734"
      },
      "execution_count": null,
      "outputs": [
        {
          "output_type": "execute_result",
          "data": {
            "text/plain": [
              "[Row(_c0='longitude', _c1='latitude', _c2='housing_median_age', _c3='total_rooms', _c4='total_bedrooms', _c5='population', _c6='households', _c7='median_income', _c8='median_house_value'),\n",
              " Row(_c0='-114.310000', _c1='34.190000', _c2='15.000000', _c3='5612.000000', _c4='1283.000000', _c5='1015.000000', _c6='472.000000', _c7='1.493600', _c8='66900.000000'),\n",
              " Row(_c0='-114.470000', _c1='34.400000', _c2='19.000000', _c3='7650.000000', _c4='1901.000000', _c5='1129.000000', _c6='463.000000', _c7='1.820000', _c8='80100.000000'),\n",
              " Row(_c0='-114.560000', _c1='33.690000', _c2='17.000000', _c3='720.000000', _c4='174.000000', _c5='333.000000', _c6='117.000000', _c7='1.650900', _c8='85700.000000')]"
            ]
          },
          "metadata": {},
          "execution_count": 5
        }
      ]
    },
    {
      "cell_type": "code",
      "source": [
        "import pyspark.sql.functions as f\n",
        "\n",
        "# Удаление строк с пропущенными значениями\n",
        "data.na.drop()\n",
        "\n",
        "# Замена отсутствующих значений средним\n",
        "data.na.fill(data.select(f.mean(data['open'])).collect()[0][0])\n",
        "\n",
        "# Замена отсутствующих значений новыми\n",
        "data.na.replace(old_value, new_value)"
      ],
      "metadata": {
        "id": "qA4R_VUK4KRC",
        "outputId": "20c45bc3-ee06-4aa8-8809-ee2e72255f9d",
        "colab": {
          "base_uri": "https://localhost:8080/",
          "height": 373
        }
      },
      "execution_count": 1,
      "outputs": [
        {
          "output_type": "error",
          "ename": "ModuleNotFoundError",
          "evalue": "ignored",
          "traceback": [
            "\u001b[0;31m---------------------------------------------------------------------------\u001b[0m",
            "\u001b[0;31mModuleNotFoundError\u001b[0m                       Traceback (most recent call last)",
            "\u001b[0;32m<ipython-input-1-bf2d4988e524>\u001b[0m in \u001b[0;36m<cell line: 1>\u001b[0;34m()\u001b[0m\n\u001b[0;32m----> 1\u001b[0;31m \u001b[0;32mimport\u001b[0m \u001b[0mpyspark\u001b[0m\u001b[0;34m.\u001b[0m\u001b[0msql\u001b[0m\u001b[0;34m.\u001b[0m\u001b[0mfunctions\u001b[0m \u001b[0;32mas\u001b[0m \u001b[0mf\u001b[0m\u001b[0;34m\u001b[0m\u001b[0;34m\u001b[0m\u001b[0m\n\u001b[0m\u001b[1;32m      2\u001b[0m \u001b[0;34m\u001b[0m\u001b[0m\n\u001b[1;32m      3\u001b[0m \u001b[0;31m# Удаление строк с пропущенными значениями\u001b[0m\u001b[0;34m\u001b[0m\u001b[0;34m\u001b[0m\u001b[0m\n\u001b[1;32m      4\u001b[0m \u001b[0mdata\u001b[0m\u001b[0;34m.\u001b[0m\u001b[0mna\u001b[0m\u001b[0;34m.\u001b[0m\u001b[0mdrop\u001b[0m\u001b[0;34m(\u001b[0m\u001b[0;34m)\u001b[0m\u001b[0;34m\u001b[0m\u001b[0;34m\u001b[0m\u001b[0m\n\u001b[1;32m      5\u001b[0m \u001b[0;34m\u001b[0m\u001b[0m\n",
            "\u001b[0;31mModuleNotFoundError\u001b[0m: No module named 'pyspark'",
            "",
            "\u001b[0;31m---------------------------------------------------------------------------\u001b[0;32m\nNOTE: If your import is failing due to a missing package, you can\nmanually install dependencies using either !pip or !apt.\n\nTo view examples of installing some common dependencies, click the\n\"Open Examples\" button below.\n\u001b[0;31m---------------------------------------------------------------------------\u001b[0m\n"
          ],
          "errorDetails": {
            "actions": [
              {
                "action": "open_url",
                "actionText": "Open Examples",
                "url": "/notebooks/snippets/importing_libraries.ipynb"
              }
            ]
          }
        }
      ]
    },
    {
      "cell_type": "markdown",
      "source": [
        "Operations:\n",
        "Select\n",
        "Filter\n",
        "Between\n",
        "When\n",
        "Like\n",
        "GroupBy\n",
        "Aggregations\n"
      ],
      "metadata": {
        "id": "mBp9F8YtxHG1"
      }
    },
    {
      "cell_type": "markdown",
      "source": [
        "Select"
      ],
      "metadata": {
        "id": "v-GDfdUnzM-Q"
      }
    },
    {
      "cell_type": "code",
      "source": [
        "from pyspark.sql.functions import *\n",
        "k = spark.read.csv('/content/sample_data/stocks_price_final.csv', header='True', sep=',')\n",
        "# select one column\n",
        "k.printSchema()\n",
        "k.select('symbol').show(3)\n",
        "# select multiple column\n",
        "k.select(['symbol', 'volume', 'date']).show(5)"
      ],
      "metadata": {
        "id": "gtfodpJJxLD4",
        "outputId": "ccd8fd68-4f4f-438c-89cb-c760a6c914d1",
        "colab": {
          "base_uri": "https://localhost:8080/"
        }
      },
      "execution_count": 21,
      "outputs": [
        {
          "output_type": "stream",
          "name": "stdout",
          "text": [
            "root\n",
            " |-- _c0: string (nullable = true)\n",
            " |-- symbol: string (nullable = true)\n",
            " |-- date: string (nullable = true)\n",
            " |-- open: string (nullable = true)\n",
            " |-- high: string (nullable = true)\n",
            " |-- low: string (nullable = true)\n",
            " |-- close: string (nullable = true)\n",
            " |-- volume: string (nullable = true)\n",
            " |-- adjusted: string (nullable = true)\n",
            " |-- market.cap: string (nullable = true)\n",
            " |-- sector: string (nullable = true)\n",
            " |-- industry: string (nullable = true)\n",
            " |-- exchange: string (nullable = true)\n",
            "\n",
            "+------+\n",
            "|symbol|\n",
            "+------+\n",
            "|   TXG|\n",
            "|   TXG|\n",
            "|   TXG|\n",
            "+------+\n",
            "only showing top 3 rows\n",
            "\n",
            "+------+-------+----------+\n",
            "|symbol| volume|      date|\n",
            "+------+-------+----------+\n",
            "|   TXG|7326300|2019-09-12|\n",
            "|   TXG|1025200|2019-09-13|\n",
            "|   TXG| 269900|2019-09-16|\n",
            "|   TXG| 602800|2019-09-17|\n",
            "|   TXG|1589600|2019-09-18|\n",
            "+------+-------+----------+\n",
            "only showing top 5 rows\n",
            "\n"
          ]
        }
      ]
    },
    {
      "cell_type": "markdown",
      "source": [
        "Filter\n",
        "Данный метод фильтрует данные на основе заданного условия. Вы также можете указать несколько условий, используя операторы AND (&), OR (|) и NOT (~). Вот пример получения данных о ценах на акции за январь 2020 года."
      ],
      "metadata": {
        "id": "nnALJF3EzHgu"
      }
    },
    {
      "cell_type": "code",
      "source": [
        "k.filter( (col('date') >= lit('2020-01-01')) & (col('date') <= lit('2020-01-31')) ).show(5)"
      ],
      "metadata": {
        "id": "p7GRbyHSzJ7E",
        "outputId": "a2134baa-91cd-4dcc-8acd-3868a8110c05",
        "colab": {
          "base_uri": "https://localhost:8080/"
        }
      },
      "execution_count": 22,
      "outputs": [
        {
          "output_type": "stream",
          "name": "stdout",
          "text": [
            "+---+------+----------+---------+---------+---------+---------+------+---------+----------+-------------+--------------------+--------+\n",
            "|_c0|symbol|      date|     open|     high|      low|    close|volume| adjusted|market.cap|       sector|            industry|exchange|\n",
            "+---+------+----------+---------+---------+---------+---------+------+---------+----------+-------------+--------------------+--------+\n",
            "| 78|   TXG|2020-01-02|76.910004|77.989998|71.480003|72.830002|220200|72.830002|    $9.31B|Capital Goods|Biotechnology: La...|  NASDAQ|\n",
            "| 79|   TXG|2020-01-03|71.519997|76.188004|70.580002|75.559998|288300|75.559998|    $9.31B|Capital Goods|Biotechnology: La...|  NASDAQ|\n",
            "| 80|   TXG|2020-01-06|75.269997|77.349998|73.559998|75.550003|220600|75.550003|    $9.31B|Capital Goods|Biotechnology: La...|  NASDAQ|\n",
            "| 81|   TXG|2020-01-07|       76|77.279999|    75.32|75.980003|182400|75.980003|    $9.31B|Capital Goods|Biotechnology: La...|  NASDAQ|\n",
            "| 82|   TXG|2020-01-08|76.089996|76.949997|72.739998|74.839996|172100|74.839996|    $9.31B|Capital Goods|Biotechnology: La...|  NASDAQ|\n",
            "+---+------+----------+---------+---------+---------+---------+------+---------+----------+-------------+--------------------+--------+\n",
            "only showing top 5 rows\n",
            "\n"
          ]
        }
      ]
    },
    {
      "cell_type": "markdown",
      "source": [
        "Between\n",
        "Этот метод возвращает True, если проверяемое значение принадлежит указанному отрезку, иначе — False. Давайте посмотрим на пример отбора данных, в которых значения adjusted находятся в диапазоне от 100 до 500."
      ],
      "metadata": {
        "id": "z_TEwaRb0Kij"
      }
    },
    {
      "cell_type": "code",
      "source": [
        "k.filter(k.adjusted.between(100.0, 500.0)).show(3)"
      ],
      "metadata": {
        "id": "R3rT3TZB0LP-",
        "outputId": "5e2c15c8-7052-484d-a2a4-677c9328f0bb",
        "colab": {
          "base_uri": "https://localhost:8080/"
        }
      },
      "execution_count": 25,
      "outputs": [
        {
          "output_type": "stream",
          "name": "stdout",
          "text": [
            "+---+------+----------+----------+----------+----------+----------+------+----------+----------+-------------+--------------------+--------+\n",
            "|_c0|symbol|      date|      open|      high|       low|     close|volume|  adjusted|market.cap|       sector|            industry|exchange|\n",
            "+---+------+----------+----------+----------+----------+----------+------+----------+----------+-------------+--------------------+--------+\n",
            "| 93|   TXG|2020-01-24| 95.459999|       101| 94.157997|100.790001|328100|100.790001|    $9.31B|Capital Goods|Biotechnology: La...|  NASDAQ|\n",
            "| 94|   TXG|2020-01-27| 99.760002|104.892998| 97.019997|103.209999|334900|103.209999|    $9.31B|Capital Goods|Biotechnology: La...|  NASDAQ|\n",
            "| 95|   TXG|2020-01-28|104.620003|108.269997|103.297997|106.620003|245400|106.620003|    $9.31B|Capital Goods|Biotechnology: La...|  NASDAQ|\n",
            "+---+------+----------+----------+----------+----------+----------+------+----------+----------+-------------+--------------------+--------+\n",
            "only showing top 3 rows\n",
            "\n"
          ]
        }
      ]
    },
    {
      "cell_type": "markdown",
      "source": [
        "When\n",
        "Он возвращает 0 или 1 в зависимости от заданного условия. В приведенном ниже примере показано, как выбрать такие цены на момент открытия и закрытия торгов, при которых скорректированная цена была больше или равна 200."
      ],
      "metadata": {
        "id": "KJd20Q_50lqX"
      }
    },
    {
      "cell_type": "code",
      "source": [
        "k.select('open', 'close', \n",
        "            when(k.adjusted >= 200.0, 1).otherwise(0)\n",
        ").show(5)"
      ],
      "metadata": {
        "id": "pO1_uzuJ0mFj",
        "outputId": "87e70f4c-d447-4d88-cff7-0ac4126905f5",
        "colab": {
          "base_uri": "https://localhost:8080/"
        }
      },
      "execution_count": 27,
      "outputs": [
        {
          "output_type": "stream",
          "name": "stdout",
          "text": [
            "+---------+---------+-----------------------------------------------+\n",
            "|     open|    close|CASE WHEN (adjusted >= 200.0) THEN 1 ELSE 0 END|\n",
            "+---------+---------+-----------------------------------------------+\n",
            "|       54|    52.75|                                              0|\n",
            "|    52.75|    52.27|                                              0|\n",
            "|52.450001|55.200001|                                              0|\n",
            "|56.209999|56.779999|                                              0|\n",
            "|56.849998|       62|                                              0|\n",
            "+---------+---------+-----------------------------------------------+\n",
            "only showing top 5 rows\n",
            "\n"
          ]
        }
      ]
    },
    {
      "cell_type": "markdown",
      "source": [
        "Like\n",
        "Этот метод похож на оператор Like в SQL. Приведенный ниже код демонстрирует использование rlike() для извлечения имен секторов, которые начинаются с букв M или C."
      ],
      "metadata": {
        "id": "wDFWxGib0798"
      }
    },
    {
      "cell_type": "code",
      "source": [
        "k.select(\n",
        "    'sector', \n",
        "    k.sector.rlike('^[B,C]').alias('Колонка sector начинается с B или C')\n",
        ").distinct().show()\n",
        "\n",
        "k.select('sector',\n",
        "            data.sector.like(\"%Heal%\")\n",
        "      ).distinct().show()"
      ],
      "metadata": {
        "id": "ebVyzvyO08Ik",
        "outputId": "d67aef99-af55-4c77-82fe-e225bdef1722",
        "colab": {
          "base_uri": "https://localhost:8080/"
        }
      },
      "execution_count": 29,
      "outputs": [
        {
          "output_type": "stream",
          "name": "stdout",
          "text": [
            "+--------------------+-----------------------------------+\n",
            "|              sector|Колонка sector начинается с B или C|\n",
            "+--------------------+-----------------------------------+\n",
            "|         Health Care|                              false|\n",
            "|       Capital Goods|                               true|\n",
            "|Consumer Non-Dura...|                               true|\n",
            "|    Public Utilities|                              false|\n",
            "|   Consumer Durables|                               true|\n",
            "|             Finance|                              false|\n",
            "|      Transportation|                              false|\n",
            "|       Miscellaneous|                              false|\n",
            "|   Consumer Services|                               true|\n",
            "|              Energy|                              false|\n",
            "|    Basic Industries|                               true|\n",
            "|          Technology|                              false|\n",
            "+--------------------+-----------------------------------+\n",
            "\n"
          ]
        }
      ]
    },
    {
      "cell_type": "code",
      "source": [
        "k.filter( k.sector.rlike('^[B,C]') ).select('sector').distinct().show()"
      ],
      "metadata": {
        "id": "JYJCl0-w1TxH",
        "outputId": "2dff34fb-1721-430d-a5f2-af30b8745c4c",
        "colab": {
          "base_uri": "https://localhost:8080/"
        }
      },
      "execution_count": 34,
      "outputs": [
        {
          "output_type": "stream",
          "name": "stdout",
          "text": [
            "+--------------------+\n",
            "|              sector|\n",
            "+--------------------+\n",
            "|Consumer Non-Dura...|\n",
            "|    Basic Industries|\n",
            "|       Capital Goods|\n",
            "|   Consumer Services|\n",
            "|   Consumer Durables|\n",
            "+--------------------+\n",
            "\n"
          ]
        }
      ]
    },
    {
      "cell_type": "code",
      "source": [
        "kk = k.select(\n",
        "    'sector', \n",
        "    k.sector.rlike('^[B,C]').alias('startBC')\n",
        ").distinct()\n",
        "kkk = kk.filter(kk.startBC == 'true').show()"
      ],
      "metadata": {
        "id": "gq5LU5fZ2SP3",
        "outputId": "dc062a03-c3d6-43b9-fc06-85d8ef3035fc",
        "colab": {
          "base_uri": "https://localhost:8080/"
        }
      },
      "execution_count": 38,
      "outputs": [
        {
          "output_type": "stream",
          "name": "stdout",
          "text": [
            "+--------------------+-------+\n",
            "|              sector|startBC|\n",
            "+--------------------+-------+\n",
            "|       Capital Goods|   true|\n",
            "|Consumer Non-Dura...|   true|\n",
            "|   Consumer Durables|   true|\n",
            "|   Consumer Services|   true|\n",
            "|    Basic Industries|   true|\n",
            "+--------------------+-------+\n",
            "\n"
          ]
        }
      ]
    },
    {
      "cell_type": "markdown",
      "source": [
        "GroupBy\n",
        "Само название подсказывает, что данная функция группирует данные по выбранному столбцу и выполняет различные операции, такие как вычисление суммы, среднего, минимального, максимального значения и т. д. В приведенном ниже примере объясняется, как получить среднюю цену открытия, закрытия и скорректированную цену акций по отраслям.\n",
        "\n"
      ],
      "metadata": {
        "id": "zYGGiB4U4wAi"
      }
    },
    {
      "cell_type": "code",
      "source": [
        "(k.select(['industry', 'open', 'close', 'adjusted'])\n",
        "    .groupBy('industry')\n",
        "    .mean()\n",
        "    .show()\n",
        ")"
      ],
      "metadata": {
        "id": "o6r4zgYI4ww1",
        "outputId": "9c0b47a5-4c57-46b4-9a86-697c76fd61c8",
        "colab": {
          "base_uri": "https://localhost:8080/"
        }
      },
      "execution_count": 42,
      "outputs": [
        {
          "output_type": "stream",
          "name": "stdout",
          "text": [
            "+--------------------+\n",
            "|            industry|\n",
            "+--------------------+\n",
            "|Finance/Investors...|\n",
            "|       Miscellaneous|\n",
            "|Investment Banker...|\n",
            "|   Food Distributors|\n",
            "|Miscellaneous man...|\n",
            "|    Ophthalmic Goods|\n",
            "|        Broadcasting|\n",
            "|Agricultural Chem...|\n",
            "|Biotechnology: Bi...|\n",
            "|Other Specialty S...|\n",
            "|Biotechnology: El...|\n",
            "|Other Consumer Se...|\n",
            "|Electric Utilitie...|\n",
            "|     Specialty Foods|\n",
            "|    Plastic Products|\n",
            "|Precision Instrum...|\n",
            "|        Water Supply|\n",
            "|               Banks|\n",
            "|Farming/Seeds/Mil...|\n",
            "|Medical/Nursing S...|\n",
            "+--------------------+\n",
            "only showing top 20 rows\n",
            "\n"
          ]
        }
      ]
    },
    {
      "cell_type": "code",
      "source": [
        "k.groupBy('industry').agg(mean('open'),mean('close'),max('adjusted').alias('ma')).show()"
      ],
      "metadata": {
        "id": "zJfU-vrw5XPe",
        "outputId": "869975fc-4f25-4605-e05a-4cca51cf722b",
        "colab": {
          "base_uri": "https://localhost:8080/"
        }
      },
      "execution_count": 53,
      "outputs": [
        {
          "output_type": "stream",
          "name": "stdout",
          "text": [
            "+--------------------+------------------+------------------+----------+\n",
            "|            industry|         avg(open)|        avg(close)|        ma|\n",
            "+--------------------+------------------+------------------+----------+\n",
            "|Finance/Investors...| 5.134401785714286| 5.136630739795919|  9.995176|\n",
            "|   Food Distributors|43.274508569354644| 43.27317810574859|      9.99|\n",
            "|Investment Banker...| 58.95058094575029|58.983085960826294| 99.973457|\n",
            "|       Miscellaneous| 16.38588266938776| 16.35987909030613|      9.95|\n",
            "|Miscellaneous man...|15.660586409948984| 15.65093486096939|      9.99|\n",
            "|    Ophthalmic Goods|108.50137892138572|108.54045987608258| 64.160004|\n",
            "|Agricultural Chem...|22.046413928996614|22.042051076318053| 99.943466|\n",
            "|        Broadcasting|24.916787464825223| 24.91738845539514|        NA|\n",
            "|Biotechnology: Bi...|24.808083192324542|24.803587149935442|        NA|\n",
            "|Other Specialty S...| 84.80718810562882| 84.80276550929834|999.549988|\n",
            "|Biotechnology: El...| 33.36891734535045| 33.33611913546892| 99.997345|\n",
            "|Other Consumer Se...| 43.67010744224583|43.658688711464606| 99.879997|\n",
            "|Electric Utilitie...| 41.35569183903091| 41.37105559357328|        NA|\n",
            "|     Specialty Foods| 65.22351357692312| 65.22317585370249|        NA|\n",
            "|    Plastic Products| 31.69500596129026| 31.70773089354834| 99.990814|\n",
            "|Precision Instrum...|24.476071367346933|24.506250015306108| 37.139999|\n",
            "|        Water Supply|  40.5804830820354| 40.58487374462944| 99.539986|\n",
            "|               Banks|21.441229607680004|21.440168331039978|     9.998|\n",
            "|Farming/Seeds/Mil...| 27.74014344411733| 27.74297949099047| 99.910004|\n",
            "|Marine Transporta...|20.908210279072357| 20.88506559631334| 99.462311|\n",
            "+--------------------+------------------+------------------+----------+\n",
            "only showing top 20 rows\n",
            "\n"
          ]
        }
      ]
    },
    {
      "cell_type": "markdown",
      "source": [
        "Агрегирование\n",
        "PySpark предоставляет встроенные стандартные функции агрегации, определенные в API DataFrame, они могут пригодится, когда нам нужно выполнить агрегирование значений ваших столбцов. Другими словами, такие функции работают с группами строк и вычисляют единственное возвращаемое значение для каждой группы.\n",
        "\n",
        "В приведенном ниже примере показано, как отобразить минимальные, максимальные и средние значения цен открытия, закрытия и скорректированных цен акций в промежутке с января 2019 года по январь 2020 года для каждого сектора."
      ],
      "metadata": {
        "id": "1DMmw9Ca51g7"
      }
    },
    {
      "cell_type": "code",
      "source": [
        "(k.filter((col('date') >= lit('2019-01-02')) & (col('date') <= lit('2020-01-31')))\n",
        "    .groupBy(\"sector\")\n",
        "    .agg(min(\"date\").alias(\"С\"), \n",
        "         max(\"date\").alias(\"По\"), \n",
        "         \n",
        "         min(\"open\").alias(\"Минимум при открытии\"),\n",
        "         max(\"open\").alias(\"Максимум при открытии\"), \n",
        "         avg(\"open\").alias(\"Среднее в open\"), \n",
        "\n",
        "         min(\"close\").alias(\"Минимум при закрытии\"), \n",
        "         max(\"close\").alias(\"Максимум при закрытии\"), \n",
        "         avg(\"close\").alias(\"Среднее в close\"), \n",
        "\n",
        "         min(\"adjusted\").alias(\"Скорректированный минимум\"), \n",
        "         max(\"adjusted\").alias(\"Скорректированный максимум\"), \n",
        "         avg(\"adjusted\").alias(\"Среднее в adjusted\"), \n",
        "\n",
        "      ).show(truncate=False)\n",
        ")"
      ],
      "metadata": {
        "id": "NlO0Z0xP52VB",
        "outputId": "3e9d8216-f59c-46b5-c775-3c1b31fe431c",
        "colab": {
          "base_uri": "https://localhost:8080/"
        }
      },
      "execution_count": 45,
      "outputs": [
        {
          "output_type": "stream",
          "name": "stdout",
          "text": [
            "+---------------------+----------+----------+--------------------+---------------------+------------------+--------------------+---------------------+------------------+-------------------------+--------------------------+------------------+\n",
            "|sector               |С         |По        |Минимум при открытии|Максимум при открытии|Среднее в open    |Минимум при закрытии|Максимум при закрытии|Среднее в close   |Скорректированный минимум|Скорректированный максимум|Среднее в adjusted|\n",
            "+---------------------+----------+----------+--------------------+---------------------+------------------+--------------------+---------------------+------------------+-------------------------+--------------------------+------------------+\n",
            "|Miscellaneous        |2019-01-02|2020-01-31|0.16                |NA                   |51.51619596530094 |0.16                |NA                   |51.54953412269053 |0.16                     |NA                        |51.21050733851903 |\n",
            "|Health Care          |2019-01-02|2020-01-31|0.072               |NA                   |146.77561975676196|0.071               |NA                   |145.63974140826105|0.071                    |NA                        |145.50092663131548|\n",
            "|Public Utilities     |2019-01-02|2020-01-31|0.62                |99.949997            |36.67104182710834 |0.66                |99.889999            |36.684334349345605|0.66                     |99.968025                 |35.55794068386673 |\n",
            "|Energy               |2019-01-02|2020-01-31|0.13                |99.959999            |27.695591382025718|0.13                |99.959999            |27.676750848215654|0.13                     |99.968277                 |26.675108967542013|\n",
            "|Consumer Non-Durables|2019-01-02|2020-01-31|0.22                |NA                   |44.68703179837432 |0.22                |NA                   |44.69028854824002 |0.22                     |NA                        |44.00786604732114 |\n",
            "|Finance              |2019-01-02|2020-01-31|0.284               |NA                   |40.304979730179085|0.27                |NA                   |40.330617430180055|0.27                     |NA                        |39.41408818854872 |\n",
            "|Basic Industries     |2019-01-02|2020-01-31|0.277               |NA                   |334814.23540859646|0.272               |NA                   |334289.2550689392 |0.272                    |NA                        |331916.3926153813 |\n",
            "|Capital Goods        |2019-01-02|2020-01-31|0.21                |NA                   |61.479283472745024|0.22                |NA                   |61.526343209090065|-0.555993                |NA                        |60.79992564173739 |\n",
            "|Technology           |2019-01-02|2020-01-31|0.14                |NA                   |49.63989857764513 |0.13                |NA                   |49.64697306066007 |0.13                     |NA                        |49.271465831557585|\n",
            "|Consumer Services    |2019-01-02|2020-01-31|0.21                |NA                   |58.50570512458658 |0.201               |NA                   |58.49787065225812 |0.201                    |NA                        |57.56926626388146 |\n",
            "|Consumer Durables    |2019-01-02|2020-01-31|0.32                |99218.75             |439.96307151506704|0.31                |99.989998            |436.78385305589006|0.31                     |99.999657                 |436.1655366019183 |\n",
            "|Transportation       |2019-01-02|2020-01-31|0.61                |NA                   |39.514098111525676|0.63                |NA                   |39.52829761002284 |0.63                     |NA                        |38.86532091563174 |\n",
            "+---------------------+----------+----------+--------------------+---------------------+------------------+--------------------+---------------------+------------------+-------------------------+--------------------------+------------------+\n",
            "\n"
          ]
        }
      ]
    },
    {
      "cell_type": "code",
      "source": [
        "from pyspark.sql.functions import *\n",
        "bank = spark.read.csv('/content/sample_data/bank.csv', header='True', sep=';')\n",
        "bank.show(4)"
      ],
      "metadata": {
        "id": "C46J-QQn8QaR",
        "outputId": "37e5520a-b2c3-4d1e-8d69-d0d5f558cc40",
        "colab": {
          "base_uri": "https://localhost:8080/"
        }
      },
      "execution_count": 56,
      "outputs": [
        {
          "output_type": "stream",
          "name": "stdout",
          "text": [
            "+---+----------+-------+---------+-------+-------+-------+----+--------+---+-----+--------+--------+-----+--------+--------+---+\n",
            "|age|       job|marital|education|default|balance|housing|loan| contact|day|month|duration|campaign|pdays|previous|poutcome|  y|\n",
            "+---+----------+-------+---------+-------+-------+-------+----+--------+---+-----+--------+--------+-----+--------+--------+---+\n",
            "| 30|unemployed|married|  primary|     no|   1787|     no|  no|cellular| 19|  oct|      79|       1|   -1|       0| unknown| no|\n",
            "| 33|  services|married|secondary|     no|   4789|    yes| yes|cellular| 11|  may|     220|       1|  339|       4| failure| no|\n",
            "| 35|management| single| tertiary|     no|   1350|    yes|  no|cellular| 16|  apr|     185|       1|  330|       1| failure| no|\n",
            "| 30|management|married| tertiary|     no|   1476|    yes| yes| unknown|  3|  jun|     199|       4|   -1|       0| unknown| no|\n",
            "+---+----------+-------+---------+-------+-------+-------+----+--------+---+-----+--------+--------+-----+--------+--------+---+\n",
            "only showing top 4 rows\n",
            "\n"
          ]
        }
      ]
    },
    {
      "cell_type": "markdown",
      "source": [
        "Задача\n",
        "Сгруппировать значения по возрасту и найти количество элементов в группе.\n",
        "Вывести первые 5 строк"
      ],
      "metadata": {
        "id": "RaxuUglX9ecZ"
      }
    },
    {
      "cell_type": "code",
      "source": [
        "bank.groupBy('age').agg(count('age').alias('count')).show(5)"
      ],
      "metadata": {
        "id": "0IOsh-Do8cKZ",
        "outputId": "6a5f9d50-d081-4d98-a167-6d57c29d8983",
        "colab": {
          "base_uri": "https://localhost:8080/"
        }
      },
      "execution_count": 60,
      "outputs": [
        {
          "output_type": "stream",
          "name": "stdout",
          "text": [
            "+---+-----+\n",
            "|age|count|\n",
            "+---+-----+\n",
            "| 51|   91|\n",
            "| 54|   71|\n",
            "| 29|   97|\n",
            "| 69|    6|\n",
            "| 42|  141|\n",
            "+---+-----+\n",
            "only showing top 5 rows\n",
            "\n"
          ]
        }
      ]
    },
    {
      "cell_type": "markdown",
      "source": [
        "Задача\n",
        "Найти, сотрудники с каким возрастом работают в банке чаще всего.\n",
        "Вывести первые 5 строк"
      ],
      "metadata": {
        "id": "wloG9fsm9k5U"
      }
    },
    {
      "cell_type": "code",
      "source": [
        "b2 = bank.groupBy('age').agg(count('age').alias('counts'))\n",
        "b3 = b2.sort(b2.counts.desc())\n",
        "#df.sort(df.department.asc(),df.state.desc())\n",
        "b3.show(5)"
      ],
      "metadata": {
        "id": "KDdpFc_m9oNF",
        "outputId": "160bf688-e1ff-4ec9-f3af-7e72e2641039",
        "colab": {
          "base_uri": "https://localhost:8080/"
        }
      },
      "execution_count": 62,
      "outputs": [
        {
          "output_type": "stream",
          "name": "stdout",
          "text": [
            "+---+------+\n",
            "|age|counts|\n",
            "+---+------+\n",
            "| 34|   231|\n",
            "| 32|   224|\n",
            "| 31|   199|\n",
            "| 36|   188|\n",
            "| 33|   186|\n",
            "+---+------+\n",
            "only showing top 5 rows\n",
            "\n"
          ]
        }
      ]
    },
    {
      "cell_type": "markdown",
      "source": [
        "Задача\n",
        "Необходимо найти возраст и количество самых молодых сотрудников банка\n",
        "Вывести первые 5 строк,"
      ],
      "metadata": {
        "id": "JJpp0zfv_0Hp"
      }
    },
    {
      "cell_type": "code",
      "source": [
        "b2 = bank.groupBy('age').agg(count('age').alias('count'))\n",
        "b4 = b2.sort(b2.age.asc())\n",
        "b4.show(5)"
      ],
      "metadata": {
        "id": "nXRfgUpS_2yB",
        "outputId": "136fac8d-970c-4aec-bd7a-365e610d830a",
        "colab": {
          "base_uri": "https://localhost:8080/"
        }
      },
      "execution_count": 65,
      "outputs": [
        {
          "output_type": "stream",
          "name": "stdout",
          "text": [
            "+---+-----+\n",
            "|age|count|\n",
            "+---+-----+\n",
            "| 19|    4|\n",
            "| 20|    3|\n",
            "| 21|    7|\n",
            "| 22|    9|\n",
            "| 23|   20|\n",
            "+---+-----+\n",
            "only showing top 5 rows\n",
            "\n"
          ]
        }
      ]
    },
    {
      "cell_type": "markdown",
      "source": [
        "Задача\n",
        "Необходимо вывести возраст и количество сотрудников, которым более 30 лет. Произвести сортировку полученной таблицы по столбцу age по возрастанию.\n",
        "Вывести первые 5 строк"
      ],
      "metadata": {
        "id": "9vRt_J-VAnTw"
      }
    },
    {
      "cell_type": "code",
      "source": [
        "#k.filter( (col('date') >= lit('2020-01-01')) & (col('date') <= lit('2020-01-31')) ).show(5)\n",
        "b5 = bank.filter((col('age') > lit(30))) #.show(5)\n",
        "b6 = b5.groupBy('age').agg(count('age').alias('count'))\n",
        "b7 = b6.sort(b6.age.asc()).select('age','count')\n",
        "b7.show(5)"
      ],
      "metadata": {
        "id": "v24-Hd-6Al9_",
        "outputId": "343e0ccb-811d-4cf5-b363-51ab580ed049",
        "colab": {
          "base_uri": "https://localhost:8080/"
        }
      },
      "execution_count": 69,
      "outputs": [
        {
          "output_type": "stream",
          "name": "stdout",
          "text": [
            "+---+-----+\n",
            "|age|count|\n",
            "+---+-----+\n",
            "| 31|  199|\n",
            "| 32|  224|\n",
            "| 33|  186|\n",
            "| 34|  231|\n",
            "| 35|  180|\n",
            "+---+-----+\n",
            "only showing top 5 rows\n",
            "\n"
          ]
        }
      ]
    },
    {
      "cell_type": "markdown",
      "source": [
        "Визуализация данных\n",
        "Для визуализации данных мы воспользуемся библиотеками matplotlib и pandas. Метод toPandas() позволяет нам осуществить преобразование данных в dataframe pandas, который мы используем при вызове метода визуализации plot(). В приведенном ниже коде показано, как отобразить гистограмму, отображающую средние значения цен открытия, закрытия и скорректированных цен акций для каждого сектора.\n"
      ],
      "metadata": {
        "id": "uxBnmIuOC6ZT"
      }
    },
    {
      "cell_type": "code",
      "source": [
        "from matplotlib import pyplot as plt\n",
        "data_schema = [\n",
        "               StructField('_c0', IntegerType(), nullable=True),\n",
        "               StructField('open', DoubleType(), True),\n",
        "               StructField('close', DoubleType(), True),\n",
        "               StructField('adjusted', DoubleType(), True),\n",
        "               StructField('low', DoubleType(), True),\n",
        "               StructField('high', DoubleType(), True),\n",
        "               StructField('sector', StringType(), True),\n",
        "               StructField('industry', StringType(), True),\n",
        "               StructField('new_volume', IntegerType(), True),\n",
        "               StructField('date', DateType(), True)\n",
        "            ]\n",
        "\n",
        "final_struc = StructType(fields = data_schema)\n",
        "k = spark.read.csv('/content/sample_data/stocks_price_final.csv', sep=',', header=True, schema=final_struc)\n",
        "\n",
        "sec_df =  k.select(['sector', \n",
        "                       'open', \n",
        "                       'close', \n",
        "                       'adjusted']\n",
        "                     )\\\n",
        "                     .groupBy('sector')\\\n",
        "                     .mean()\\\n",
        "                     .toPandas()\n",
        "\n",
        "ind = list(range(12))\n",
        "ind.pop(6)\n",
        "\n",
        "sec_df.iloc[ind ,:].plot(kind='bar', x='sector', y=sec_df.columns.tolist()[1:], \n",
        "                         figsize=(12, 6), ylabel='Stock Price', xlabel='Sector')\n",
        "plt.show()"
      ],
      "metadata": {
        "id": "8awZoFKpC8Rz",
        "outputId": "ff828884-9be2-4457-c419-24f7d6aa0f40",
        "colab": {
          "base_uri": "https://localhost:8080/",
          "height": 532
        }
      },
      "execution_count": 73,
      "outputs": [
        {
          "output_type": "display_data",
          "data": {
            "text/plain": [
              "<Figure size 1200x600 with 1 Axes>"
            ],
            "image/png": "[encoded data removed]"
          },
          "metadata": {}
        }
      ]
    },
    {
      "cell_type": "markdown",
      "source": [
        "## **SF_DE_Examples**"
      ],
      "metadata": {
        "id": "iEIYWxl2dFeI"
      }
    },
    {
      "cell_type": "code",
      "source": [
        "!pip install pyspark==3.0.1 py4j==0.10.9"
      ],
      "metadata": {
        "id": "y8tgaejYdNU_"
      },
      "execution_count": null,
      "outputs": []
    },
    {
      "cell_type": "code",
      "source": [
        "from pyspark.sql import SparkSession\n",
        "spark = SparkSession.builder\\\n",
        "        .master(\"local[*]\")\\\n",
        "        .appName('PySpark_Tutorial')\\\n",
        "        .getOrCreate()"
      ],
      "metadata": {
        "id": "yvj1LzmYdOET"
      },
      "execution_count": null,
      "outputs": []
    },
    {
      "cell_type": "code",
      "source": [
        "# Read file\n",
        "df2 = spark.read.format(\"csv\") \\\n",
        "    .option(\"mode\", \"FAILFAST\") \\\n",
        "    .option(\"inferSchema\", \"true\") \\\n",
        "    .option(\"header\",\"true\") \\\n",
        "    .option(\"path\", \"data_x/countries_of_the_world.csv\") \\\n",
        "    .load()"
      ],
      "metadata": {
        "id": "P_2IleYodJJM"
      },
      "execution_count": null,
      "outputs": []
    },
    {
      "cell_type": "code",
      "source": [
        "df2.show(5)"
      ],
      "metadata": {
        "colab": {
          "base_uri": "https://localhost:8080/"
        },
        "id": "Fbf0n3lFdU4P",
        "outputId": "2a6b16b5-0a91-4b56-e10a-623cdcd9314d"
      },
      "execution_count": null,
      "outputs": [
        {
          "output_type": "stream",
          "name": "stdout",
          "text": [
            "+---------------+--------------------+----------+--------------+--------------------------+----------------------------+-------------+----------------------------------+------------------+------------+-----------------+----------+---------+---------+-------+---------+---------+-----------+--------+-------+\n",
            "|        Country|              Region|Population|Area (sq. mi.)|Pop. Density (per sq. mi.)|Coastline (coast/area ratio)|Net migration|Infant mortality (per 1000 births)|GDP ($ per capita)|Literacy (%)|Phones (per 1000)|Arable (%)|Crops (%)|Other (%)|Climate|Birthrate|Deathrate|Agriculture|Industry|Service|\n",
            "+---------------+--------------------+----------+--------------+--------------------------+----------------------------+-------------+----------------------------------+------------------+------------+-----------------+----------+---------+---------+-------+---------+---------+-----------+--------+-------+\n",
            "|   Afghanistan |ASIA (EX. NEAR EA...|  31056997|        647500|                      48,0|                        0,00|        23,06|                            163,07|               700|        36,0|              3,2|     12,13|     0,22|    87,65|      1|     46,6|    20,34|       0,38|    0,24|   0,38|\n",
            "|       Albania |EASTERN EUROPE   ...|   3581655|         28748|                     124,6|                        1,26|        -4,93|                             21,52|              4500|        86,5|             71,2|     21,09|     4,42|    74,49|      3|    15,11|     5,22|      0,232|   0,188|  0,579|\n",
            "|       Algeria |NORTHERN AFRICA  ...|  32930091|       2381740|                      13,8|                        0,04|        -0,39|                                31|              6000|        70,0|             78,1|      3,22|     0,25|    96,53|      1|    17,14|     4,61|      0,101|     0,6|  0,298|\n",
            "|American Samoa |OCEANIA          ...|     57794|           199|                     290,4|                       58,29|       -20,71|                              9,27|              8000|        97,0|            259,5|        10|       15|       75|      2|    22,46|     3,27|       null|    null|   null|\n",
            "|       Andorra |WESTERN EUROPE   ...|     71201|           468|                     152,1|                        0,00|          6,6|                              4,05|             19000|       100,0|            497,2|      2,22|        0|    97,78|      3|     8,71|     6,25|       null|    null|   null|\n",
            "+---------------+--------------------+----------+--------------+--------------------------+----------------------------+-------------+----------------------------------+------------------+------------+-----------------+----------+---------+---------+-------+---------+---------+-----------+--------+-------+\n",
            "only showing top 5 rows\n",
            "\n"
          ]
        }
      ]
    },
    {
      "cell_type": "code",
      "source": [
        "df2.printSchema()"
      ],
      "metadata": {
        "colab": {
          "base_uri": "https://localhost:8080/"
        },
        "id": "VAqqcp_idt8C",
        "outputId": "00f42ca0-25cb-4660-ab18-1c85b590d48c"
      },
      "execution_count": null,
      "outputs": [
        {
          "output_type": "stream",
          "name": "stdout",
          "text": [
            "root\n",
            " |-- Country: string (nullable = true)\n",
            " |-- Region: string (nullable = true)\n",
            " |-- Population: integer (nullable = true)\n",
            " |-- Area (sq. mi.): integer (nullable = true)\n",
            " |-- Pop. Density (per sq. mi.): string (nullable = true)\n",
            " |-- Coastline (coast/area ratio): string (nullable = true)\n",
            " |-- Net migration: string (nullable = true)\n",
            " |-- Infant mortality (per 1000 births): string (nullable = true)\n",
            " |-- GDP ($ per capita): integer (nullable = true)\n",
            " |-- Literacy (%): string (nullable = true)\n",
            " |-- Phones (per 1000): string (nullable = true)\n",
            " |-- Arable (%): string (nullable = true)\n",
            " |-- Crops (%): string (nullable = true)\n",
            " |-- Other (%): string (nullable = true)\n",
            " |-- Climate: string (nullable = true)\n",
            " |-- Birthrate: string (nullable = true)\n",
            " |-- Deathrate: string (nullable = true)\n",
            " |-- Agriculture: string (nullable = true)\n",
            " |-- Industry: string (nullable = true)\n",
            " |-- Service: string (nullable = true)\n",
            "\n"
          ]
        }
      ]
    },
    {
      "cell_type": "code",
      "source": [
        "# loading JSON\n",
        "dfj = sp.read.format(\"json\") \\\n",
        "    .option(\"mode\", \"FAILFAST\") \\\n",
        "    .option(\"inferSchema\", \"true\") \\\n",
        "    .option(\"path\", \"data/capital.json\") \\\n",
        "    .load()\n",
        "dfj.show(3)"
      ],
      "metadata": {
        "id": "98yWaykzeKiS"
      },
      "execution_count": null,
      "outputs": []
    },
    {
      "cell_type": "code",
      "source": [
        "# цепочка обработки при записи\n",
        "df.write.format(\"csv\") \\\n",
        "    .mode(\"overwrite\") \\\n",
        "    .option(\"sep\", \"\\t\") \\\n",
        "    .save(\"data/new.csv\")"
      ],
      "metadata": {
        "id": "c9wXLecve8KG"
      },
      "execution_count": null,
      "outputs": []
    },
    {
      "cell_type": "markdown",
      "source": [
        "# Work with DATABASES"
      ],
      "metadata": {
        "id": "QT-JTX15gUBt"
      }
    },
    {
      "cell_type": "code",
      "source": [
        "#%spark.pyspark\n",
        "#setting minimum of parameters. read\n",
        "df3 = spark.read.format(\"jdbc\") \\\n",
        "    .option(\"url\",\"jdbc:mysql://10.93.1.9/skillfactory\") \\\n",
        "    .option('driver',\"com.mysql.jdbc.Driver\") \\\n",
        "    .option(\"dbtable\",\"phones\") \\\n",
        "    .option(\"user\",\"mysql\") \\\n",
        "    .option(\"password\",\"arenadata\") \\\n",
        "    .load()"
      ],
      "metadata": {
        "id": "8nwhE3r7gX8v"
      },
      "execution_count": null,
      "outputs": []
    },
    {
      "cell_type": "code",
      "source": [
        "#write into Hive\n",
        "jdbcDF.write.format(\"parquet\") \\\n",
        "    .mode('overwrite') \\\n",
        "    .option(\"compression\",\"gzip\") \\\n",
        "    .saveAsTable(\"sp_phones\")\n",
        "\n",
        "# add partitions explicitly\n",
        ".option(\"lowerBound\", 712415) \\\n",
        "    .option(\"upperBound\", 81792182) \\\n",
        "    .option(\"partitionColumn\", \"CONTRACT_ID\") \\\n",
        "    .option(\"numPartitions\", 100) \\"
      ],
      "metadata": {
        "id": "-4wMIXRNgyXX"
      },
      "execution_count": null,
      "outputs": []
    }
  ]
}